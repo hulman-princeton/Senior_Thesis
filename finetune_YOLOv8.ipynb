{
  "cells": [
    {
      "cell_type": "code",
      "execution_count": null,
      "metadata": {
        "id": "m1rHK3ClqcEg"
      },
      "outputs": [],
      "source": [
        "### YOLOv8 docs: https://docs.ultralytics.com/tasks/classify/\n",
        "### Medical imaging example: https://github.com/sevdaimany/YOLOv8-Medical-Imaging/blob/master/classification/classify.py"
      ]
    },
    {
      "cell_type": "code",
      "source": [
        "import os\n",
        "import numpy as np\n",
        "import sklearn.metrics\n",
        "from sklearn.metrics import roc_auc_score, roc_curve, confusion_matrix, ConfusionMatrixDisplay\n",
        "import matplotlib.pyplot as plt"
      ],
      "metadata": {
        "id": "RBLIex3GQRX3"
      },
      "execution_count": 1,
      "outputs": []
    },
    {
      "cell_type": "code",
      "source": [
        "!pip install ultralytics\n",
        "from ultralytics import YOLO"
      ],
      "metadata": {
        "colab": {
          "base_uri": "https://localhost:8080/"
        },
        "id": "TLbAyBiEHemL",
        "outputId": "020dd55c-b439-4b49-c26c-5556f2a3dccc"
      },
      "execution_count": 2,
      "outputs": [
        {
          "output_type": "stream",
          "name": "stdout",
          "text": [
            "Collecting ultralytics\n",
            "  Downloading ultralytics-8.1.9-py3-none-any.whl (709 kB)\n",
            "\u001b[2K     \u001b[90m━━━━━━━━━━━━━━━━━━━━━━━━━━━━━━━━━━━━━━━━\u001b[0m \u001b[32m709.3/709.3 kB\u001b[0m \u001b[31m5.8 MB/s\u001b[0m eta \u001b[36m0:00:00\u001b[0m\n",
            "\u001b[?25hRequirement already satisfied: matplotlib>=3.3.0 in /usr/local/lib/python3.10/dist-packages (from ultralytics) (3.7.1)\n",
            "Requirement already satisfied: numpy>=1.22.2 in /usr/local/lib/python3.10/dist-packages (from ultralytics) (1.23.5)\n",
            "Requirement already satisfied: opencv-python>=4.6.0 in /usr/local/lib/python3.10/dist-packages (from ultralytics) (4.8.0.76)\n",
            "Requirement already satisfied: pillow>=7.1.2 in /usr/local/lib/python3.10/dist-packages (from ultralytics) (9.4.0)\n",
            "Requirement already satisfied: pyyaml>=5.3.1 in /usr/local/lib/python3.10/dist-packages (from ultralytics) (6.0.1)\n",
            "Requirement already satisfied: requests>=2.23.0 in /usr/local/lib/python3.10/dist-packages (from ultralytics) (2.31.0)\n",
            "Requirement already satisfied: scipy>=1.4.1 in /usr/local/lib/python3.10/dist-packages (from ultralytics) (1.11.4)\n",
            "Requirement already satisfied: torch>=1.8.0 in /usr/local/lib/python3.10/dist-packages (from ultralytics) (2.1.0+cu121)\n",
            "Requirement already satisfied: torchvision>=0.9.0 in /usr/local/lib/python3.10/dist-packages (from ultralytics) (0.16.0+cu121)\n",
            "Requirement already satisfied: tqdm>=4.64.0 in /usr/local/lib/python3.10/dist-packages (from ultralytics) (4.66.1)\n",
            "Requirement already satisfied: psutil in /usr/local/lib/python3.10/dist-packages (from ultralytics) (5.9.5)\n",
            "Requirement already satisfied: py-cpuinfo in /usr/local/lib/python3.10/dist-packages (from ultralytics) (9.0.0)\n",
            "Collecting thop>=0.1.1 (from ultralytics)\n",
            "  Downloading thop-0.1.1.post2209072238-py3-none-any.whl (15 kB)\n",
            "Requirement already satisfied: pandas>=1.1.4 in /usr/local/lib/python3.10/dist-packages (from ultralytics) (1.5.3)\n",
            "Requirement already satisfied: seaborn>=0.11.0 in /usr/local/lib/python3.10/dist-packages (from ultralytics) (0.13.1)\n",
            "Requirement already satisfied: contourpy>=1.0.1 in /usr/local/lib/python3.10/dist-packages (from matplotlib>=3.3.0->ultralytics) (1.2.0)\n",
            "Requirement already satisfied: cycler>=0.10 in /usr/local/lib/python3.10/dist-packages (from matplotlib>=3.3.0->ultralytics) (0.12.1)\n",
            "Requirement already satisfied: fonttools>=4.22.0 in /usr/local/lib/python3.10/dist-packages (from matplotlib>=3.3.0->ultralytics) (4.47.2)\n",
            "Requirement already satisfied: kiwisolver>=1.0.1 in /usr/local/lib/python3.10/dist-packages (from matplotlib>=3.3.0->ultralytics) (1.4.5)\n",
            "Requirement already satisfied: packaging>=20.0 in /usr/local/lib/python3.10/dist-packages (from matplotlib>=3.3.0->ultralytics) (23.2)\n",
            "Requirement already satisfied: pyparsing>=2.3.1 in /usr/local/lib/python3.10/dist-packages (from matplotlib>=3.3.0->ultralytics) (3.1.1)\n",
            "Requirement already satisfied: python-dateutil>=2.7 in /usr/local/lib/python3.10/dist-packages (from matplotlib>=3.3.0->ultralytics) (2.8.2)\n",
            "Requirement already satisfied: pytz>=2020.1 in /usr/local/lib/python3.10/dist-packages (from pandas>=1.1.4->ultralytics) (2023.4)\n",
            "Requirement already satisfied: charset-normalizer<4,>=2 in /usr/local/lib/python3.10/dist-packages (from requests>=2.23.0->ultralytics) (3.3.2)\n",
            "Requirement already satisfied: idna<4,>=2.5 in /usr/local/lib/python3.10/dist-packages (from requests>=2.23.0->ultralytics) (3.6)\n",
            "Requirement already satisfied: urllib3<3,>=1.21.1 in /usr/local/lib/python3.10/dist-packages (from requests>=2.23.0->ultralytics) (2.0.7)\n",
            "Requirement already satisfied: certifi>=2017.4.17 in /usr/local/lib/python3.10/dist-packages (from requests>=2.23.0->ultralytics) (2023.11.17)\n",
            "Requirement already satisfied: filelock in /usr/local/lib/python3.10/dist-packages (from torch>=1.8.0->ultralytics) (3.13.1)\n",
            "Requirement already satisfied: typing-extensions in /usr/local/lib/python3.10/dist-packages (from torch>=1.8.0->ultralytics) (4.5.0)\n",
            "Requirement already satisfied: sympy in /usr/local/lib/python3.10/dist-packages (from torch>=1.8.0->ultralytics) (1.12)\n",
            "Requirement already satisfied: networkx in /usr/local/lib/python3.10/dist-packages (from torch>=1.8.0->ultralytics) (3.2.1)\n",
            "Requirement already satisfied: jinja2 in /usr/local/lib/python3.10/dist-packages (from torch>=1.8.0->ultralytics) (3.1.3)\n",
            "Requirement already satisfied: fsspec in /usr/local/lib/python3.10/dist-packages (from torch>=1.8.0->ultralytics) (2023.6.0)\n",
            "Requirement already satisfied: triton==2.1.0 in /usr/local/lib/python3.10/dist-packages (from torch>=1.8.0->ultralytics) (2.1.0)\n",
            "Requirement already satisfied: six>=1.5 in /usr/local/lib/python3.10/dist-packages (from python-dateutil>=2.7->matplotlib>=3.3.0->ultralytics) (1.16.0)\n",
            "Requirement already satisfied: MarkupSafe>=2.0 in /usr/local/lib/python3.10/dist-packages (from jinja2->torch>=1.8.0->ultralytics) (2.1.4)\n",
            "Requirement already satisfied: mpmath>=0.19 in /usr/local/lib/python3.10/dist-packages (from sympy->torch>=1.8.0->ultralytics) (1.3.0)\n",
            "Installing collected packages: thop, ultralytics\n",
            "Successfully installed thop-0.1.1.post2209072238 ultralytics-8.1.9\n"
          ]
        }
      ]
    },
    {
      "cell_type": "code",
      "source": [
        "finetuned = 'RIM-ONE_PRC'\n",
        "data_path = '/content/drive/MyDrive/Thesis/' + finetuned + '_ROI/'\n",
        "\n",
        "# load model\n",
        "model = YOLO('yolov8n-cls.pt')"
      ],
      "metadata": {
        "id": "oEtjWVuEHsty"
      },
      "execution_count": 9,
      "outputs": []
    },
    {
      "cell_type": "code",
      "source": [
        "num_epochs = 100\n",
        "dim = 224\n",
        "\n",
        "# train on retinal images\n",
        "results = model.train(data=data_path, batch=32, epochs=num_epochs, imgsz=dim)"
      ],
      "metadata": {
        "colab": {
          "base_uri": "https://localhost:8080/"
        },
        "id": "r1OR63kmIXrr",
        "outputId": "9c9266e9-a753-4914-ce14-4157edef5baa"
      },
      "execution_count": 10,
      "outputs": [
        {
          "output_type": "stream",
          "name": "stdout",
          "text": [
            "Ultralytics YOLOv8.1.9 🚀 Python-3.10.12 torch-2.1.0+cu121 CUDA:0 (Tesla T4, 15102MiB)\n",
            "\u001b[34m\u001b[1mengine/trainer: \u001b[0mtask=classify, mode=train, model=yolov8n-cls.pt, data=/content/drive/MyDrive/Thesis/RIM-ONE_PRC_ROI/, epochs=100, time=None, patience=50, batch=32, imgsz=224, save=True, save_period=-1, cache=False, device=None, workers=8, project=None, name=train2, exist_ok=False, pretrained=True, optimizer=auto, verbose=True, seed=0, deterministic=True, single_cls=False, rect=False, cos_lr=False, close_mosaic=10, resume=False, amp=True, fraction=1.0, profile=False, freeze=None, multi_scale=False, overlap_mask=True, mask_ratio=4, dropout=0.0, val=True, split=val, save_json=False, save_hybrid=False, conf=None, iou=0.7, max_det=300, half=False, dnn=False, plots=True, source=None, vid_stride=1, stream_buffer=False, visualize=False, augment=False, agnostic_nms=False, classes=None, retina_masks=False, embed=None, show=False, save_frames=False, save_txt=False, save_conf=False, save_crop=False, show_labels=True, show_conf=True, show_boxes=True, line_width=None, format=torchscript, keras=False, optimize=False, int8=False, dynamic=False, simplify=False, opset=None, workspace=4, nms=False, lr0=0.01, lrf=0.01, momentum=0.937, weight_decay=0.0005, warmup_epochs=3.0, warmup_momentum=0.8, warmup_bias_lr=0.1, box=7.5, cls=0.5, dfl=1.5, pose=12.0, kobj=1.0, label_smoothing=0.0, nbs=64, hsv_h=0.015, hsv_s=0.7, hsv_v=0.4, degrees=0.0, translate=0.1, scale=0.5, shear=0.0, perspective=0.0, flipud=0.0, fliplr=0.5, mosaic=1.0, mixup=0.0, copy_paste=0.0, auto_augment=randaugment, erasing=0.4, crop_fraction=1.0, cfg=None, tracker=botsort.yaml, save_dir=runs/classify/train2\n",
            "\u001b[34m\u001b[1mtrain:\u001b[0m /content/drive/MyDrive/Thesis/RIM-ONE_PRC_ROI/train... found 392 images in 2 classes ✅ \n",
            "\u001b[34m\u001b[1mval:\u001b[0m /content/drive/MyDrive/Thesis/RIM-ONE_PRC_ROI/val... found 49 images in 2 classes ✅ \n",
            "\u001b[34m\u001b[1mtest:\u001b[0m /content/drive/MyDrive/Thesis/RIM-ONE_PRC_ROI/test... found 49 images in 2 classes ✅ \n",
            "Overriding model.yaml nc=1000 with nc=2\n",
            "\n",
            "                   from  n    params  module                                       arguments                     \n",
            "  0                  -1  1       464  ultralytics.nn.modules.conv.Conv             [3, 16, 3, 2]                 \n",
            "  1                  -1  1      4672  ultralytics.nn.modules.conv.Conv             [16, 32, 3, 2]                \n",
            "  2                  -1  1      7360  ultralytics.nn.modules.block.C2f             [32, 32, 1, True]             \n",
            "  3                  -1  1     18560  ultralytics.nn.modules.conv.Conv             [32, 64, 3, 2]                \n",
            "  4                  -1  2     49664  ultralytics.nn.modules.block.C2f             [64, 64, 2, True]             \n",
            "  5                  -1  1     73984  ultralytics.nn.modules.conv.Conv             [64, 128, 3, 2]               \n",
            "  6                  -1  2    197632  ultralytics.nn.modules.block.C2f             [128, 128, 2, True]           \n",
            "  7                  -1  1    295424  ultralytics.nn.modules.conv.Conv             [128, 256, 3, 2]              \n",
            "  8                  -1  1    460288  ultralytics.nn.modules.block.C2f             [256, 256, 1, True]           \n",
            "  9                  -1  1    332802  ultralytics.nn.modules.head.Classify         [256, 2]                      \n",
            "YOLOv8n-cls summary: 99 layers, 1440850 parameters, 1440850 gradients, 3.4 GFLOPs\n",
            "Transferred 156/158 items from pretrained weights\n",
            "\u001b[34m\u001b[1mTensorBoard: \u001b[0mStart with 'tensorboard --logdir runs/classify/train2', view at http://localhost:6006/\n",
            "\u001b[34m\u001b[1mAMP: \u001b[0mrunning Automatic Mixed Precision (AMP) checks with YOLOv8n...\n",
            "\u001b[34m\u001b[1mAMP: \u001b[0mchecks passed ✅\n"
          ]
        },
        {
          "output_type": "stream",
          "name": "stderr",
          "text": [
            "\u001b[34m\u001b[1mtrain: \u001b[0mScanning /content/drive/MyDrive/Thesis/RIM-ONE_PRC_ROI/train... 392 images, 0 corrupt: 100%|██████████| 392/392 [00:40<00:00,  9.78it/s]"
          ]
        },
        {
          "output_type": "stream",
          "name": "stdout",
          "text": [
            "\u001b[34m\u001b[1mtrain: \u001b[0mNew cache created: /content/drive/MyDrive/Thesis/RIM-ONE_PRC_ROI/train.cache\n"
          ]
        },
        {
          "output_type": "stream",
          "name": "stderr",
          "text": [
            "\n",
            "\u001b[34m\u001b[1mval: \u001b[0mScanning /content/drive/MyDrive/Thesis/RIM-ONE_PRC_ROI/val... 49 images, 0 corrupt: 100%|██████████| 49/49 [00:12<00:00,  3.86it/s]"
          ]
        },
        {
          "output_type": "stream",
          "name": "stdout",
          "text": [
            "\u001b[34m\u001b[1mval: \u001b[0mNew cache created: /content/drive/MyDrive/Thesis/RIM-ONE_PRC_ROI/val.cache\n"
          ]
        },
        {
          "output_type": "stream",
          "name": "stderr",
          "text": [
            "\n"
          ]
        },
        {
          "output_type": "stream",
          "name": "stdout",
          "text": [
            "\u001b[34m\u001b[1moptimizer:\u001b[0m 'optimizer=auto' found, ignoring 'lr0=0.01' and 'momentum=0.937' and determining best 'optimizer', 'lr0' and 'momentum' automatically... \n",
            "\u001b[34m\u001b[1moptimizer:\u001b[0m AdamW(lr=0.000714, momentum=0.9) with parameter groups 26 weight(decay=0.0), 27 weight(decay=0.0005), 27 bias(decay=0.0)\n",
            "\u001b[34m\u001b[1mTensorBoard: \u001b[0mmodel graph visualization added ✅\n",
            "Image sizes 224 train, 224 val\n",
            "Using 2 dataloader workers\n",
            "Logging results to \u001b[1mruns/classify/train2\u001b[0m\n",
            "Starting training for 100 epochs...\n",
            "\n",
            "      Epoch    GPU_mem       loss  Instances       Size\n"
          ]
        },
        {
          "output_type": "stream",
          "name": "stderr",
          "text": [
            "      1/100     0.713G     0.6753          8        224: 100%|██████████| 13/13 [00:03<00:00,  3.69it/s]\n",
            "               classes   top1_acc   top5_acc: 100%|██████████| 1/1 [00:00<00:00,  4.37it/s]"
          ]
        },
        {
          "output_type": "stream",
          "name": "stdout",
          "text": [
            "                   all      0.612          1\n"
          ]
        },
        {
          "output_type": "stream",
          "name": "stderr",
          "text": [
            "\n"
          ]
        },
        {
          "output_type": "stream",
          "name": "stdout",
          "text": [
            "\n",
            "      Epoch    GPU_mem       loss  Instances       Size\n"
          ]
        },
        {
          "output_type": "stream",
          "name": "stderr",
          "text": [
            "      2/100     0.577G     0.6076          8        224: 100%|██████████| 13/13 [00:03<00:00,  3.86it/s]\n",
            "               classes   top1_acc   top5_acc: 100%|██████████| 1/1 [00:00<00:00, 16.44it/s]"
          ]
        },
        {
          "output_type": "stream",
          "name": "stdout",
          "text": [
            "                   all      0.714          1\n"
          ]
        },
        {
          "output_type": "stream",
          "name": "stderr",
          "text": [
            "\n"
          ]
        },
        {
          "output_type": "stream",
          "name": "stdout",
          "text": [
            "\n",
            "      Epoch    GPU_mem       loss  Instances       Size\n"
          ]
        },
        {
          "output_type": "stream",
          "name": "stderr",
          "text": [
            "      3/100     0.577G     0.5262          8        224: 100%|██████████| 13/13 [00:04<00:00,  2.73it/s]\n",
            "               classes   top1_acc   top5_acc: 100%|██████████| 1/1 [00:00<00:00, 30.49it/s]"
          ]
        },
        {
          "output_type": "stream",
          "name": "stdout",
          "text": [
            "                   all      0.837          1\n"
          ]
        },
        {
          "output_type": "stream",
          "name": "stderr",
          "text": [
            "\n"
          ]
        },
        {
          "output_type": "stream",
          "name": "stdout",
          "text": [
            "\n",
            "      Epoch    GPU_mem       loss  Instances       Size\n"
          ]
        },
        {
          "output_type": "stream",
          "name": "stderr",
          "text": [
            "      4/100     0.581G     0.4872          8        224: 100%|██████████| 13/13 [00:03<00:00,  3.25it/s]\n",
            "               classes   top1_acc   top5_acc: 100%|██████████| 1/1 [00:00<00:00, 59.83it/s]"
          ]
        },
        {
          "output_type": "stream",
          "name": "stdout",
          "text": [
            "                   all      0.837          1\n"
          ]
        },
        {
          "output_type": "stream",
          "name": "stderr",
          "text": [
            "\n"
          ]
        },
        {
          "output_type": "stream",
          "name": "stdout",
          "text": [
            "\n",
            "      Epoch    GPU_mem       loss  Instances       Size\n"
          ]
        },
        {
          "output_type": "stream",
          "name": "stderr",
          "text": [
            "      5/100     0.577G     0.4292          8        224: 100%|██████████| 13/13 [00:04<00:00,  2.69it/s]\n",
            "               classes   top1_acc   top5_acc: 100%|██████████| 1/1 [00:00<00:00, 38.95it/s]\n"
          ]
        },
        {
          "output_type": "stream",
          "name": "stdout",
          "text": [
            "                   all      0.816          1\n",
            "\n",
            "      Epoch    GPU_mem       loss  Instances       Size\n"
          ]
        },
        {
          "output_type": "stream",
          "name": "stderr",
          "text": [
            "      6/100     0.581G     0.3891          8        224: 100%|██████████| 13/13 [00:05<00:00,  2.36it/s]\n",
            "               classes   top1_acc   top5_acc: 100%|██████████| 1/1 [00:00<00:00, 47.84it/s]"
          ]
        },
        {
          "output_type": "stream",
          "name": "stdout",
          "text": [
            "                   all      0.857          1\n"
          ]
        },
        {
          "output_type": "stream",
          "name": "stderr",
          "text": [
            "\n"
          ]
        },
        {
          "output_type": "stream",
          "name": "stdout",
          "text": [
            "\n",
            "      Epoch    GPU_mem       loss  Instances       Size\n"
          ]
        },
        {
          "output_type": "stream",
          "name": "stderr",
          "text": [
            "      7/100     0.577G     0.3652          8        224: 100%|██████████| 13/13 [00:03<00:00,  3.30it/s]\n",
            "               classes   top1_acc   top5_acc: 100%|██████████| 1/1 [00:00<00:00, 32.34it/s]"
          ]
        },
        {
          "output_type": "stream",
          "name": "stdout",
          "text": [
            "                   all      0.816          1\n"
          ]
        },
        {
          "output_type": "stream",
          "name": "stderr",
          "text": [
            "\n"
          ]
        },
        {
          "output_type": "stream",
          "name": "stdout",
          "text": [
            "\n",
            "      Epoch    GPU_mem       loss  Instances       Size\n"
          ]
        },
        {
          "output_type": "stream",
          "name": "stderr",
          "text": [
            "      8/100     0.581G     0.3015          8        224: 100%|██████████| 13/13 [00:05<00:00,  2.57it/s]\n",
            "               classes   top1_acc   top5_acc: 100%|██████████| 1/1 [00:00<00:00, 31.39it/s]"
          ]
        },
        {
          "output_type": "stream",
          "name": "stdout",
          "text": [
            "                   all      0.816          1\n"
          ]
        },
        {
          "output_type": "stream",
          "name": "stderr",
          "text": [
            "\n"
          ]
        },
        {
          "output_type": "stream",
          "name": "stdout",
          "text": [
            "\n",
            "      Epoch    GPU_mem       loss  Instances       Size\n"
          ]
        },
        {
          "output_type": "stream",
          "name": "stderr",
          "text": [
            "      9/100     0.579G      0.252          8        224: 100%|██████████| 13/13 [00:04<00:00,  3.21it/s]\n",
            "               classes   top1_acc   top5_acc: 100%|██████████| 1/1 [00:00<00:00, 27.75it/s]"
          ]
        },
        {
          "output_type": "stream",
          "name": "stdout",
          "text": [
            "                   all      0.776          1\n"
          ]
        },
        {
          "output_type": "stream",
          "name": "stderr",
          "text": [
            "\n"
          ]
        },
        {
          "output_type": "stream",
          "name": "stdout",
          "text": [
            "\n",
            "      Epoch    GPU_mem       loss  Instances       Size\n"
          ]
        },
        {
          "output_type": "stream",
          "name": "stderr",
          "text": [
            "     10/100     0.581G     0.2812          8        224: 100%|██████████| 13/13 [00:03<00:00,  3.33it/s]\n",
            "               classes   top1_acc   top5_acc: 100%|██████████| 1/1 [00:00<00:00, 40.14it/s]"
          ]
        },
        {
          "output_type": "stream",
          "name": "stdout",
          "text": [
            "                   all      0.837          1\n"
          ]
        },
        {
          "output_type": "stream",
          "name": "stderr",
          "text": [
            "\n"
          ]
        },
        {
          "output_type": "stream",
          "name": "stdout",
          "text": [
            "\n",
            "      Epoch    GPU_mem       loss  Instances       Size\n"
          ]
        },
        {
          "output_type": "stream",
          "name": "stderr",
          "text": [
            "     11/100     0.577G      0.221          8        224: 100%|██████████| 13/13 [00:05<00:00,  2.48it/s]\n",
            "               classes   top1_acc   top5_acc: 100%|██████████| 1/1 [00:00<00:00, 39.41it/s]"
          ]
        },
        {
          "output_type": "stream",
          "name": "stdout",
          "text": [
            "                   all      0.837          1\n"
          ]
        },
        {
          "output_type": "stream",
          "name": "stderr",
          "text": [
            "\n"
          ]
        },
        {
          "output_type": "stream",
          "name": "stdout",
          "text": [
            "\n",
            "      Epoch    GPU_mem       loss  Instances       Size\n"
          ]
        },
        {
          "output_type": "stream",
          "name": "stderr",
          "text": [
            "     12/100     0.581G     0.2559          8        224: 100%|██████████| 13/13 [00:03<00:00,  3.37it/s]\n",
            "               classes   top1_acc   top5_acc: 100%|██████████| 1/1 [00:00<00:00, 26.45it/s]"
          ]
        },
        {
          "output_type": "stream",
          "name": "stdout",
          "text": [
            "                   all      0.857          1\n"
          ]
        },
        {
          "output_type": "stream",
          "name": "stderr",
          "text": [
            "\n"
          ]
        },
        {
          "output_type": "stream",
          "name": "stdout",
          "text": [
            "\n",
            "      Epoch    GPU_mem       loss  Instances       Size\n"
          ]
        },
        {
          "output_type": "stream",
          "name": "stderr",
          "text": [
            "     13/100     0.579G     0.1828          8        224: 100%|██████████| 13/13 [00:03<00:00,  3.43it/s]\n",
            "               classes   top1_acc   top5_acc: 100%|██████████| 1/1 [00:00<00:00, 39.17it/s]"
          ]
        },
        {
          "output_type": "stream",
          "name": "stdout",
          "text": [
            "                   all      0.816          1\n"
          ]
        },
        {
          "output_type": "stream",
          "name": "stderr",
          "text": [
            "\n"
          ]
        },
        {
          "output_type": "stream",
          "name": "stdout",
          "text": [
            "\n",
            "      Epoch    GPU_mem       loss  Instances       Size\n"
          ]
        },
        {
          "output_type": "stream",
          "name": "stderr",
          "text": [
            "     14/100     0.581G     0.1796          8        224: 100%|██████████| 13/13 [00:05<00:00,  2.42it/s]\n",
            "               classes   top1_acc   top5_acc: 100%|██████████| 1/1 [00:00<00:00, 27.12it/s]"
          ]
        },
        {
          "output_type": "stream",
          "name": "stdout",
          "text": [
            "                   all      0.857          1\n"
          ]
        },
        {
          "output_type": "stream",
          "name": "stderr",
          "text": [
            "\n"
          ]
        },
        {
          "output_type": "stream",
          "name": "stdout",
          "text": [
            "\n",
            "      Epoch    GPU_mem       loss  Instances       Size\n"
          ]
        },
        {
          "output_type": "stream",
          "name": "stderr",
          "text": [
            "     15/100     0.577G     0.1949          8        224: 100%|██████████| 13/13 [00:03<00:00,  3.53it/s]\n",
            "               classes   top1_acc   top5_acc: 100%|██████████| 1/1 [00:00<00:00, 50.23it/s]"
          ]
        },
        {
          "output_type": "stream",
          "name": "stdout",
          "text": [
            "                   all      0.816          1\n"
          ]
        },
        {
          "output_type": "stream",
          "name": "stderr",
          "text": [
            "\n"
          ]
        },
        {
          "output_type": "stream",
          "name": "stdout",
          "text": [
            "\n",
            "      Epoch    GPU_mem       loss  Instances       Size\n"
          ]
        },
        {
          "output_type": "stream",
          "name": "stderr",
          "text": [
            "     16/100     0.581G     0.1205          8        224: 100%|██████████| 13/13 [00:04<00:00,  3.10it/s]\n",
            "               classes   top1_acc   top5_acc: 100%|██████████| 1/1 [00:00<00:00, 16.47it/s]"
          ]
        },
        {
          "output_type": "stream",
          "name": "stdout",
          "text": [
            "                   all      0.816          1\n"
          ]
        },
        {
          "output_type": "stream",
          "name": "stderr",
          "text": [
            "\n"
          ]
        },
        {
          "output_type": "stream",
          "name": "stdout",
          "text": [
            "\n",
            "      Epoch    GPU_mem       loss  Instances       Size\n"
          ]
        },
        {
          "output_type": "stream",
          "name": "stderr",
          "text": [
            "     17/100     0.577G     0.1587          8        224: 100%|██████████| 13/13 [00:04<00:00,  2.71it/s]\n",
            "               classes   top1_acc   top5_acc: 100%|██████████| 1/1 [00:00<00:00, 59.87it/s]"
          ]
        },
        {
          "output_type": "stream",
          "name": "stdout",
          "text": [
            "                   all      0.755          1\n"
          ]
        },
        {
          "output_type": "stream",
          "name": "stderr",
          "text": [
            "\n"
          ]
        },
        {
          "output_type": "stream",
          "name": "stdout",
          "text": [
            "\n",
            "      Epoch    GPU_mem       loss  Instances       Size\n"
          ]
        },
        {
          "output_type": "stream",
          "name": "stderr",
          "text": [
            "     18/100     0.581G     0.1217          8        224: 100%|██████████| 13/13 [00:03<00:00,  3.37it/s]\n",
            "               classes   top1_acc   top5_acc: 100%|██████████| 1/1 [00:00<00:00, 37.40it/s]"
          ]
        },
        {
          "output_type": "stream",
          "name": "stdout",
          "text": [
            "                   all      0.816          1\n"
          ]
        },
        {
          "output_type": "stream",
          "name": "stderr",
          "text": [
            "\n"
          ]
        },
        {
          "output_type": "stream",
          "name": "stdout",
          "text": [
            "\n",
            "      Epoch    GPU_mem       loss  Instances       Size\n"
          ]
        },
        {
          "output_type": "stream",
          "name": "stderr",
          "text": [
            "     19/100     0.577G     0.1504          8        224: 100%|██████████| 13/13 [00:04<00:00,  2.78it/s]\n",
            "               classes   top1_acc   top5_acc: 100%|██████████| 1/1 [00:00<00:00, 17.07it/s]"
          ]
        },
        {
          "output_type": "stream",
          "name": "stdout",
          "text": [
            "                   all      0.857          1\n"
          ]
        },
        {
          "output_type": "stream",
          "name": "stderr",
          "text": [
            "\n"
          ]
        },
        {
          "output_type": "stream",
          "name": "stdout",
          "text": [
            "\n",
            "      Epoch    GPU_mem       loss  Instances       Size\n"
          ]
        },
        {
          "output_type": "stream",
          "name": "stderr",
          "text": [
            "     20/100     0.581G     0.1046          8        224: 100%|██████████| 13/13 [00:03<00:00,  3.43it/s]\n",
            "               classes   top1_acc   top5_acc: 100%|██████████| 1/1 [00:00<00:00, 28.20it/s]"
          ]
        },
        {
          "output_type": "stream",
          "name": "stdout",
          "text": [
            "                   all      0.857          1\n"
          ]
        },
        {
          "output_type": "stream",
          "name": "stderr",
          "text": [
            "\n"
          ]
        },
        {
          "output_type": "stream",
          "name": "stdout",
          "text": [
            "\n",
            "      Epoch    GPU_mem       loss  Instances       Size\n"
          ]
        },
        {
          "output_type": "stream",
          "name": "stderr",
          "text": [
            "     21/100     0.577G     0.1707          8        224: 100%|██████████| 13/13 [00:03<00:00,  3.32it/s]\n",
            "               classes   top1_acc   top5_acc: 100%|██████████| 1/1 [00:00<00:00, 56.30it/s]"
          ]
        },
        {
          "output_type": "stream",
          "name": "stdout",
          "text": [
            "                   all      0.735          1\n"
          ]
        },
        {
          "output_type": "stream",
          "name": "stderr",
          "text": [
            "\n"
          ]
        },
        {
          "output_type": "stream",
          "name": "stdout",
          "text": [
            "\n",
            "      Epoch    GPU_mem       loss  Instances       Size\n"
          ]
        },
        {
          "output_type": "stream",
          "name": "stderr",
          "text": [
            "     22/100     0.581G     0.1698          8        224: 100%|██████████| 13/13 [00:05<00:00,  2.44it/s]\n",
            "               classes   top1_acc   top5_acc: 100%|██████████| 1/1 [00:00<00:00, 42.88it/s]"
          ]
        },
        {
          "output_type": "stream",
          "name": "stdout",
          "text": [
            "                   all      0.837          1\n"
          ]
        },
        {
          "output_type": "stream",
          "name": "stderr",
          "text": [
            "\n"
          ]
        },
        {
          "output_type": "stream",
          "name": "stdout",
          "text": [
            "\n",
            "      Epoch    GPU_mem       loss  Instances       Size\n"
          ]
        },
        {
          "output_type": "stream",
          "name": "stderr",
          "text": [
            "     23/100     0.577G      0.107          8        224: 100%|██████████| 13/13 [00:03<00:00,  3.28it/s]\n",
            "               classes   top1_acc   top5_acc: 100%|██████████| 1/1 [00:00<00:00, 25.81it/s]"
          ]
        },
        {
          "output_type": "stream",
          "name": "stdout",
          "text": [
            "                   all      0.837          1\n"
          ]
        },
        {
          "output_type": "stream",
          "name": "stderr",
          "text": [
            "\n"
          ]
        },
        {
          "output_type": "stream",
          "name": "stdout",
          "text": [
            "\n",
            "      Epoch    GPU_mem       loss  Instances       Size\n"
          ]
        },
        {
          "output_type": "stream",
          "name": "stderr",
          "text": [
            "     24/100     0.581G    0.09509          8        224: 100%|██████████| 13/13 [00:03<00:00,  3.37it/s]\n",
            "               classes   top1_acc   top5_acc: 100%|██████████| 1/1 [00:00<00:00, 39.56it/s]"
          ]
        },
        {
          "output_type": "stream",
          "name": "stdout",
          "text": [
            "                   all      0.857          1\n"
          ]
        },
        {
          "output_type": "stream",
          "name": "stderr",
          "text": [
            "\n"
          ]
        },
        {
          "output_type": "stream",
          "name": "stdout",
          "text": [
            "\n",
            "      Epoch    GPU_mem       loss  Instances       Size\n"
          ]
        },
        {
          "output_type": "stream",
          "name": "stderr",
          "text": [
            "     25/100     0.577G    0.08876          8        224: 100%|██████████| 13/13 [00:05<00:00,  2.51it/s]\n",
            "               classes   top1_acc   top5_acc: 100%|██████████| 1/1 [00:00<00:00, 63.13it/s]"
          ]
        },
        {
          "output_type": "stream",
          "name": "stdout",
          "text": [
            "                   all      0.796          1\n"
          ]
        },
        {
          "output_type": "stream",
          "name": "stderr",
          "text": [
            "\n"
          ]
        },
        {
          "output_type": "stream",
          "name": "stdout",
          "text": [
            "\n",
            "      Epoch    GPU_mem       loss  Instances       Size\n"
          ]
        },
        {
          "output_type": "stream",
          "name": "stderr",
          "text": [
            "     26/100     0.581G    0.07012          8        224: 100%|██████████| 13/13 [00:03<00:00,  3.28it/s]\n",
            "               classes   top1_acc   top5_acc: 100%|██████████| 1/1 [00:00<00:00, 54.56it/s]"
          ]
        },
        {
          "output_type": "stream",
          "name": "stdout",
          "text": [
            "                   all      0.878          1\n"
          ]
        },
        {
          "output_type": "stream",
          "name": "stderr",
          "text": [
            "\n"
          ]
        },
        {
          "output_type": "stream",
          "name": "stdout",
          "text": [
            "\n",
            "      Epoch    GPU_mem       loss  Instances       Size\n"
          ]
        },
        {
          "output_type": "stream",
          "name": "stderr",
          "text": [
            "     27/100     0.577G     0.1216          8        224: 100%|██████████| 13/13 [00:03<00:00,  3.36it/s]\n",
            "               classes   top1_acc   top5_acc: 100%|██████████| 1/1 [00:00<00:00, 15.59it/s]"
          ]
        },
        {
          "output_type": "stream",
          "name": "stdout",
          "text": [
            "                   all      0.878          1\n"
          ]
        },
        {
          "output_type": "stream",
          "name": "stderr",
          "text": [
            "\n"
          ]
        },
        {
          "output_type": "stream",
          "name": "stdout",
          "text": [
            "\n",
            "      Epoch    GPU_mem       loss  Instances       Size\n"
          ]
        },
        {
          "output_type": "stream",
          "name": "stderr",
          "text": [
            "     28/100     0.581G     0.1045          8        224: 100%|██████████| 13/13 [00:04<00:00,  2.75it/s]\n",
            "               classes   top1_acc   top5_acc: 100%|██████████| 1/1 [00:00<00:00, 54.10it/s]"
          ]
        },
        {
          "output_type": "stream",
          "name": "stdout",
          "text": [
            "                   all      0.878          1\n"
          ]
        },
        {
          "output_type": "stream",
          "name": "stderr",
          "text": [
            "\n"
          ]
        },
        {
          "output_type": "stream",
          "name": "stdout",
          "text": [
            "\n",
            "      Epoch    GPU_mem       loss  Instances       Size\n"
          ]
        },
        {
          "output_type": "stream",
          "name": "stderr",
          "text": [
            "     29/100     0.577G     0.1232          8        224: 100%|██████████| 13/13 [00:03<00:00,  3.45it/s]\n",
            "               classes   top1_acc   top5_acc: 100%|██████████| 1/1 [00:00<00:00, 55.63it/s]"
          ]
        },
        {
          "output_type": "stream",
          "name": "stdout",
          "text": [
            "                   all      0.796          1\n"
          ]
        },
        {
          "output_type": "stream",
          "name": "stderr",
          "text": [
            "\n"
          ]
        },
        {
          "output_type": "stream",
          "name": "stdout",
          "text": [
            "\n",
            "      Epoch    GPU_mem       loss  Instances       Size\n"
          ]
        },
        {
          "output_type": "stream",
          "name": "stderr",
          "text": [
            "     30/100     0.581G     0.1544          8        224: 100%|██████████| 13/13 [00:04<00:00,  2.97it/s]\n",
            "               classes   top1_acc   top5_acc: 100%|██████████| 1/1 [00:00<00:00, 16.62it/s]"
          ]
        },
        {
          "output_type": "stream",
          "name": "stdout",
          "text": [
            "                   all      0.857          1\n"
          ]
        },
        {
          "output_type": "stream",
          "name": "stderr",
          "text": [
            "\n"
          ]
        },
        {
          "output_type": "stream",
          "name": "stdout",
          "text": [
            "\n",
            "      Epoch    GPU_mem       loss  Instances       Size\n"
          ]
        },
        {
          "output_type": "stream",
          "name": "stderr",
          "text": [
            "     31/100     0.577G     0.1001          8        224: 100%|██████████| 13/13 [00:04<00:00,  2.91it/s]\n",
            "               classes   top1_acc   top5_acc: 100%|██████████| 1/1 [00:00<00:00, 29.44it/s]"
          ]
        },
        {
          "output_type": "stream",
          "name": "stdout",
          "text": [
            "                   all      0.837          1\n"
          ]
        },
        {
          "output_type": "stream",
          "name": "stderr",
          "text": [
            "\n"
          ]
        },
        {
          "output_type": "stream",
          "name": "stdout",
          "text": [
            "\n",
            "      Epoch    GPU_mem       loss  Instances       Size\n"
          ]
        },
        {
          "output_type": "stream",
          "name": "stderr",
          "text": [
            "     32/100     0.581G    0.07189          8        224: 100%|██████████| 13/13 [00:03<00:00,  3.35it/s]\n",
            "               classes   top1_acc   top5_acc: 100%|██████████| 1/1 [00:00<00:00, 48.95it/s]"
          ]
        },
        {
          "output_type": "stream",
          "name": "stdout",
          "text": [
            "                   all      0.857          1\n"
          ]
        },
        {
          "output_type": "stream",
          "name": "stderr",
          "text": [
            "\n"
          ]
        },
        {
          "output_type": "stream",
          "name": "stdout",
          "text": [
            "\n",
            "      Epoch    GPU_mem       loss  Instances       Size\n"
          ]
        },
        {
          "output_type": "stream",
          "name": "stderr",
          "text": [
            "     33/100     0.577G    0.07478          8        224: 100%|██████████| 13/13 [00:05<00:00,  2.59it/s]\n",
            "               classes   top1_acc   top5_acc: 100%|██████████| 1/1 [00:00<00:00, 32.52it/s]"
          ]
        },
        {
          "output_type": "stream",
          "name": "stdout",
          "text": [
            "                   all      0.878          1\n"
          ]
        },
        {
          "output_type": "stream",
          "name": "stderr",
          "text": [
            "\n"
          ]
        },
        {
          "output_type": "stream",
          "name": "stdout",
          "text": [
            "\n",
            "      Epoch    GPU_mem       loss  Instances       Size\n"
          ]
        },
        {
          "output_type": "stream",
          "name": "stderr",
          "text": [
            "     34/100     0.581G    0.05686          8        224: 100%|██████████| 13/13 [00:04<00:00,  3.21it/s]\n",
            "               classes   top1_acc   top5_acc: 100%|██████████| 1/1 [00:00<00:00, 34.69it/s]"
          ]
        },
        {
          "output_type": "stream",
          "name": "stdout",
          "text": [
            "                   all      0.816          1\n"
          ]
        },
        {
          "output_type": "stream",
          "name": "stderr",
          "text": [
            "\n"
          ]
        },
        {
          "output_type": "stream",
          "name": "stdout",
          "text": [
            "\n",
            "      Epoch    GPU_mem       loss  Instances       Size\n"
          ]
        },
        {
          "output_type": "stream",
          "name": "stderr",
          "text": [
            "     35/100     0.577G     0.1015          8        224: 100%|██████████| 13/13 [00:03<00:00,  3.41it/s]\n",
            "               classes   top1_acc   top5_acc: 100%|██████████| 1/1 [00:00<00:00, 59.97it/s]"
          ]
        },
        {
          "output_type": "stream",
          "name": "stdout",
          "text": [
            "                   all      0.816          1\n"
          ]
        },
        {
          "output_type": "stream",
          "name": "stderr",
          "text": [
            "\n"
          ]
        },
        {
          "output_type": "stream",
          "name": "stdout",
          "text": [
            "\n",
            "      Epoch    GPU_mem       loss  Instances       Size\n"
          ]
        },
        {
          "output_type": "stream",
          "name": "stderr",
          "text": [
            "     36/100     0.581G    0.09191          8        224: 100%|██████████| 13/13 [00:05<00:00,  2.42it/s]\n",
            "               classes   top1_acc   top5_acc: 100%|██████████| 1/1 [00:00<00:00, 30.75it/s]"
          ]
        },
        {
          "output_type": "stream",
          "name": "stdout",
          "text": [
            "                   all      0.816          1\n"
          ]
        },
        {
          "output_type": "stream",
          "name": "stderr",
          "text": [
            "\n"
          ]
        },
        {
          "output_type": "stream",
          "name": "stdout",
          "text": [
            "\n",
            "      Epoch    GPU_mem       loss  Instances       Size\n"
          ]
        },
        {
          "output_type": "stream",
          "name": "stderr",
          "text": [
            "     37/100     0.577G     0.1063          8        224: 100%|██████████| 13/13 [00:03<00:00,  3.41it/s]\n",
            "               classes   top1_acc   top5_acc: 100%|██████████| 1/1 [00:00<00:00, 34.22it/s]"
          ]
        },
        {
          "output_type": "stream",
          "name": "stdout",
          "text": [
            "                   all      0.857          1\n"
          ]
        },
        {
          "output_type": "stream",
          "name": "stderr",
          "text": [
            "\n"
          ]
        },
        {
          "output_type": "stream",
          "name": "stdout",
          "text": [
            "\n",
            "      Epoch    GPU_mem       loss  Instances       Size\n"
          ]
        },
        {
          "output_type": "stream",
          "name": "stderr",
          "text": [
            "     38/100     0.581G    0.07363          8        224: 100%|██████████| 13/13 [00:04<00:00,  3.24it/s]\n",
            "               classes   top1_acc   top5_acc: 100%|██████████| 1/1 [00:00<00:00, 58.49it/s]"
          ]
        },
        {
          "output_type": "stream",
          "name": "stdout",
          "text": [
            "                   all      0.857          1\n"
          ]
        },
        {
          "output_type": "stream",
          "name": "stderr",
          "text": [
            "\n"
          ]
        },
        {
          "output_type": "stream",
          "name": "stdout",
          "text": [
            "\n",
            "      Epoch    GPU_mem       loss  Instances       Size\n"
          ]
        },
        {
          "output_type": "stream",
          "name": "stderr",
          "text": [
            "     39/100     0.577G    0.06185          8        224: 100%|██████████| 13/13 [00:05<00:00,  2.43it/s]\n",
            "               classes   top1_acc   top5_acc: 100%|██████████| 1/1 [00:00<00:00, 35.05it/s]"
          ]
        },
        {
          "output_type": "stream",
          "name": "stdout",
          "text": [
            "                   all      0.837          1\n"
          ]
        },
        {
          "output_type": "stream",
          "name": "stderr",
          "text": [
            "\n"
          ]
        },
        {
          "output_type": "stream",
          "name": "stdout",
          "text": [
            "\n",
            "      Epoch    GPU_mem       loss  Instances       Size\n"
          ]
        },
        {
          "output_type": "stream",
          "name": "stderr",
          "text": [
            "     40/100     0.581G    0.08025          8        224: 100%|██████████| 13/13 [00:03<00:00,  3.40it/s]\n",
            "               classes   top1_acc   top5_acc: 100%|██████████| 1/1 [00:00<00:00, 26.74it/s]"
          ]
        },
        {
          "output_type": "stream",
          "name": "stdout",
          "text": [
            "                   all      0.776          1\n"
          ]
        },
        {
          "output_type": "stream",
          "name": "stderr",
          "text": [
            "\n"
          ]
        },
        {
          "output_type": "stream",
          "name": "stdout",
          "text": [
            "\n",
            "      Epoch    GPU_mem       loss  Instances       Size\n"
          ]
        },
        {
          "output_type": "stream",
          "name": "stderr",
          "text": [
            "     41/100     0.577G    0.06233          8        224: 100%|██████████| 13/13 [00:04<00:00,  3.25it/s]\n",
            "               classes   top1_acc   top5_acc: 100%|██████████| 1/1 [00:00<00:00, 25.83it/s]"
          ]
        },
        {
          "output_type": "stream",
          "name": "stdout",
          "text": [
            "                   all      0.796          1\n"
          ]
        },
        {
          "output_type": "stream",
          "name": "stderr",
          "text": [
            "\n"
          ]
        },
        {
          "output_type": "stream",
          "name": "stdout",
          "text": [
            "\n",
            "      Epoch    GPU_mem       loss  Instances       Size\n"
          ]
        },
        {
          "output_type": "stream",
          "name": "stderr",
          "text": [
            "     42/100     0.581G    0.08713          8        224: 100%|██████████| 13/13 [00:04<00:00,  2.62it/s]\n",
            "               classes   top1_acc   top5_acc: 100%|██████████| 1/1 [00:00<00:00, 23.83it/s]"
          ]
        },
        {
          "output_type": "stream",
          "name": "stdout",
          "text": [
            "                   all      0.796          1\n"
          ]
        },
        {
          "output_type": "stream",
          "name": "stderr",
          "text": [
            "\n"
          ]
        },
        {
          "output_type": "stream",
          "name": "stdout",
          "text": [
            "\n",
            "      Epoch    GPU_mem       loss  Instances       Size\n"
          ]
        },
        {
          "output_type": "stream",
          "name": "stderr",
          "text": [
            "     43/100     0.577G    0.07848          8        224: 100%|██████████| 13/13 [00:03<00:00,  3.53it/s]\n",
            "               classes   top1_acc   top5_acc: 100%|██████████| 1/1 [00:00<00:00, 59.39it/s]"
          ]
        },
        {
          "output_type": "stream",
          "name": "stdout",
          "text": [
            "                   all      0.755          1\n"
          ]
        },
        {
          "output_type": "stream",
          "name": "stderr",
          "text": [
            "\n"
          ]
        },
        {
          "output_type": "stream",
          "name": "stdout",
          "text": [
            "\n",
            "      Epoch    GPU_mem       loss  Instances       Size\n"
          ]
        },
        {
          "output_type": "stream",
          "name": "stderr",
          "text": [
            "     44/100     0.581G    0.05801          8        224: 100%|██████████| 13/13 [00:04<00:00,  2.93it/s]\n",
            "               classes   top1_acc   top5_acc: 100%|██████████| 1/1 [00:00<00:00, 27.50it/s]"
          ]
        },
        {
          "output_type": "stream",
          "name": "stdout",
          "text": [
            "                   all      0.837          1\n"
          ]
        },
        {
          "output_type": "stream",
          "name": "stderr",
          "text": [
            "\n"
          ]
        },
        {
          "output_type": "stream",
          "name": "stdout",
          "text": [
            "\n",
            "      Epoch    GPU_mem       loss  Instances       Size\n"
          ]
        },
        {
          "output_type": "stream",
          "name": "stderr",
          "text": [
            "     45/100     0.577G    0.07883          8        224: 100%|██████████| 13/13 [00:04<00:00,  2.81it/s]\n",
            "               classes   top1_acc   top5_acc: 100%|██████████| 1/1 [00:00<00:00, 42.69it/s]"
          ]
        },
        {
          "output_type": "stream",
          "name": "stdout",
          "text": [
            "                   all      0.857          1\n"
          ]
        },
        {
          "output_type": "stream",
          "name": "stderr",
          "text": [
            "\n"
          ]
        },
        {
          "output_type": "stream",
          "name": "stdout",
          "text": [
            "\n",
            "      Epoch    GPU_mem       loss  Instances       Size\n"
          ]
        },
        {
          "output_type": "stream",
          "name": "stderr",
          "text": [
            "     46/100     0.581G     0.0467          8        224: 100%|██████████| 13/13 [00:04<00:00,  3.24it/s]\n",
            "               classes   top1_acc   top5_acc: 100%|██████████| 1/1 [00:00<00:00, 48.24it/s]"
          ]
        },
        {
          "output_type": "stream",
          "name": "stdout",
          "text": [
            "                   all      0.837          1\n"
          ]
        },
        {
          "output_type": "stream",
          "name": "stderr",
          "text": [
            "\n"
          ]
        },
        {
          "output_type": "stream",
          "name": "stdout",
          "text": [
            "\n",
            "      Epoch    GPU_mem       loss  Instances       Size\n"
          ]
        },
        {
          "output_type": "stream",
          "name": "stderr",
          "text": [
            "     47/100     0.577G    0.05638          8        224: 100%|██████████| 13/13 [00:05<00:00,  2.55it/s]\n",
            "               classes   top1_acc   top5_acc: 100%|██████████| 1/1 [00:00<00:00, 33.46it/s]"
          ]
        },
        {
          "output_type": "stream",
          "name": "stdout",
          "text": [
            "                   all      0.857          1\n"
          ]
        },
        {
          "output_type": "stream",
          "name": "stderr",
          "text": [
            "\n"
          ]
        },
        {
          "output_type": "stream",
          "name": "stdout",
          "text": [
            "\n",
            "      Epoch    GPU_mem       loss  Instances       Size\n"
          ]
        },
        {
          "output_type": "stream",
          "name": "stderr",
          "text": [
            "     48/100     0.581G    0.02682          8        224: 100%|██████████| 13/13 [00:04<00:00,  3.05it/s]\n",
            "               classes   top1_acc   top5_acc: 100%|██████████| 1/1 [00:00<00:00, 24.78it/s]"
          ]
        },
        {
          "output_type": "stream",
          "name": "stdout",
          "text": [
            "                   all      0.857          1\n"
          ]
        },
        {
          "output_type": "stream",
          "name": "stderr",
          "text": [
            "\n"
          ]
        },
        {
          "output_type": "stream",
          "name": "stdout",
          "text": [
            "\n",
            "      Epoch    GPU_mem       loss  Instances       Size\n"
          ]
        },
        {
          "output_type": "stream",
          "name": "stderr",
          "text": [
            "     49/100     0.577G    0.05458          8        224: 100%|██████████| 13/13 [00:03<00:00,  3.42it/s]\n",
            "               classes   top1_acc   top5_acc: 100%|██████████| 1/1 [00:00<00:00, 51.89it/s]"
          ]
        },
        {
          "output_type": "stream",
          "name": "stdout",
          "text": [
            "                   all      0.878          1\n"
          ]
        },
        {
          "output_type": "stream",
          "name": "stderr",
          "text": [
            "\n"
          ]
        },
        {
          "output_type": "stream",
          "name": "stdout",
          "text": [
            "\n",
            "      Epoch    GPU_mem       loss  Instances       Size\n"
          ]
        },
        {
          "output_type": "stream",
          "name": "stderr",
          "text": [
            "     50/100     0.581G    0.04359          8        224: 100%|██████████| 13/13 [00:05<00:00,  2.58it/s]\n",
            "               classes   top1_acc   top5_acc: 100%|██████████| 1/1 [00:00<00:00, 62.03it/s]"
          ]
        },
        {
          "output_type": "stream",
          "name": "stdout",
          "text": [
            "                   all      0.878          1\n"
          ]
        },
        {
          "output_type": "stream",
          "name": "stderr",
          "text": [
            "\n"
          ]
        },
        {
          "output_type": "stream",
          "name": "stdout",
          "text": [
            "\n",
            "      Epoch    GPU_mem       loss  Instances       Size\n"
          ]
        },
        {
          "output_type": "stream",
          "name": "stderr",
          "text": [
            "     51/100     0.577G    0.05648          8        224: 100%|██████████| 13/13 [00:03<00:00,  3.33it/s]\n",
            "               classes   top1_acc   top5_acc: 100%|██████████| 1/1 [00:00<00:00, 37.75it/s]"
          ]
        },
        {
          "output_type": "stream",
          "name": "stdout",
          "text": [
            "                   all      0.878          1\n"
          ]
        },
        {
          "output_type": "stream",
          "name": "stderr",
          "text": [
            "\n"
          ]
        },
        {
          "output_type": "stream",
          "name": "stdout",
          "text": [
            "\n",
            "      Epoch    GPU_mem       loss  Instances       Size\n"
          ]
        },
        {
          "output_type": "stream",
          "name": "stderr",
          "text": [
            "     52/100     0.581G    0.02642          8        224: 100%|██████████| 13/13 [00:03<00:00,  3.27it/s]\n",
            "               classes   top1_acc   top5_acc: 100%|██████████| 1/1 [00:00<00:00, 47.47it/s]"
          ]
        },
        {
          "output_type": "stream",
          "name": "stdout",
          "text": [
            "                   all      0.878          1\n"
          ]
        },
        {
          "output_type": "stream",
          "name": "stderr",
          "text": [
            "\n"
          ]
        },
        {
          "output_type": "stream",
          "name": "stdout",
          "text": [
            "\n",
            "      Epoch    GPU_mem       loss  Instances       Size\n"
          ]
        },
        {
          "output_type": "stream",
          "name": "stderr",
          "text": [
            "     53/100     0.577G     0.0694          8        224: 100%|██████████| 13/13 [00:04<00:00,  2.62it/s]\n",
            "               classes   top1_acc   top5_acc: 100%|██████████| 1/1 [00:00<00:00, 34.17it/s]"
          ]
        },
        {
          "output_type": "stream",
          "name": "stdout",
          "text": [
            "                   all      0.898          1\n"
          ]
        },
        {
          "output_type": "stream",
          "name": "stderr",
          "text": [
            "\n"
          ]
        },
        {
          "output_type": "stream",
          "name": "stdout",
          "text": [
            "\n",
            "      Epoch    GPU_mem       loss  Instances       Size\n"
          ]
        },
        {
          "output_type": "stream",
          "name": "stderr",
          "text": [
            "     54/100     0.581G    0.04269          8        224: 100%|██████████| 13/13 [00:04<00:00,  3.25it/s]\n",
            "               classes   top1_acc   top5_acc: 100%|██████████| 1/1 [00:00<00:00, 60.25it/s]"
          ]
        },
        {
          "output_type": "stream",
          "name": "stdout",
          "text": [
            "                   all      0.857          1\n"
          ]
        },
        {
          "output_type": "stream",
          "name": "stderr",
          "text": [
            "\n"
          ]
        },
        {
          "output_type": "stream",
          "name": "stdout",
          "text": [
            "\n",
            "      Epoch    GPU_mem       loss  Instances       Size\n"
          ]
        },
        {
          "output_type": "stream",
          "name": "stderr",
          "text": [
            "     55/100     0.577G    0.06021          8        224: 100%|██████████| 13/13 [00:04<00:00,  3.12it/s]\n",
            "               classes   top1_acc   top5_acc: 100%|██████████| 1/1 [00:00<00:00, 14.49it/s]\n"
          ]
        },
        {
          "output_type": "stream",
          "name": "stdout",
          "text": [
            "                   all      0.878          1\n",
            "\n",
            "      Epoch    GPU_mem       loss  Instances       Size\n"
          ]
        },
        {
          "output_type": "stream",
          "name": "stderr",
          "text": [
            "     56/100     0.581G    0.06391          8        224: 100%|██████████| 13/13 [00:04<00:00,  2.79it/s]\n",
            "               classes   top1_acc   top5_acc: 100%|██████████| 1/1 [00:00<00:00, 52.83it/s]"
          ]
        },
        {
          "output_type": "stream",
          "name": "stdout",
          "text": [
            "                   all      0.857          1\n"
          ]
        },
        {
          "output_type": "stream",
          "name": "stderr",
          "text": [
            "\n"
          ]
        },
        {
          "output_type": "stream",
          "name": "stdout",
          "text": [
            "\n",
            "      Epoch    GPU_mem       loss  Instances       Size\n"
          ]
        },
        {
          "output_type": "stream",
          "name": "stderr",
          "text": [
            "     57/100     0.577G    0.04151          8        224: 100%|██████████| 13/13 [00:03<00:00,  3.36it/s]\n",
            "               classes   top1_acc   top5_acc: 100%|██████████| 1/1 [00:00<00:00, 27.32it/s]"
          ]
        },
        {
          "output_type": "stream",
          "name": "stdout",
          "text": [
            "                   all      0.857          1\n"
          ]
        },
        {
          "output_type": "stream",
          "name": "stderr",
          "text": [
            "\n"
          ]
        },
        {
          "output_type": "stream",
          "name": "stdout",
          "text": [
            "\n",
            "      Epoch    GPU_mem       loss  Instances       Size\n"
          ]
        },
        {
          "output_type": "stream",
          "name": "stderr",
          "text": [
            "     58/100     0.581G    0.03012          8        224: 100%|██████████| 13/13 [00:04<00:00,  2.63it/s]\n",
            "               classes   top1_acc   top5_acc: 100%|██████████| 1/1 [00:00<00:00, 20.72it/s]"
          ]
        },
        {
          "output_type": "stream",
          "name": "stdout",
          "text": [
            "                   all      0.857          1\n"
          ]
        },
        {
          "output_type": "stream",
          "name": "stderr",
          "text": [
            "\n"
          ]
        },
        {
          "output_type": "stream",
          "name": "stdout",
          "text": [
            "\n",
            "      Epoch    GPU_mem       loss  Instances       Size\n"
          ]
        },
        {
          "output_type": "stream",
          "name": "stderr",
          "text": [
            "     59/100     0.577G    0.02258          8        224: 100%|██████████| 13/13 [00:04<00:00,  3.24it/s]\n",
            "               classes   top1_acc   top5_acc: 100%|██████████| 1/1 [00:00<00:00, 26.86it/s]"
          ]
        },
        {
          "output_type": "stream",
          "name": "stdout",
          "text": [
            "                   all      0.837          1\n"
          ]
        },
        {
          "output_type": "stream",
          "name": "stderr",
          "text": [
            "\n"
          ]
        },
        {
          "output_type": "stream",
          "name": "stdout",
          "text": [
            "\n",
            "      Epoch    GPU_mem       loss  Instances       Size\n"
          ]
        },
        {
          "output_type": "stream",
          "name": "stderr",
          "text": [
            "     60/100     0.581G    0.03675          8        224: 100%|██████████| 13/13 [00:04<00:00,  3.20it/s]\n",
            "               classes   top1_acc   top5_acc: 100%|██████████| 1/1 [00:00<00:00, 28.37it/s]"
          ]
        },
        {
          "output_type": "stream",
          "name": "stdout",
          "text": [
            "                   all      0.857          1\n"
          ]
        },
        {
          "output_type": "stream",
          "name": "stderr",
          "text": [
            "\n"
          ]
        },
        {
          "output_type": "stream",
          "name": "stdout",
          "text": [
            "\n",
            "      Epoch    GPU_mem       loss  Instances       Size\n"
          ]
        },
        {
          "output_type": "stream",
          "name": "stderr",
          "text": [
            "     61/100     0.579G    0.08254          8        224: 100%|██████████| 13/13 [00:05<00:00,  2.44it/s]\n",
            "               classes   top1_acc   top5_acc: 100%|██████████| 1/1 [00:00<00:00, 61.37it/s]"
          ]
        },
        {
          "output_type": "stream",
          "name": "stdout",
          "text": [
            "                   all      0.857          1\n"
          ]
        },
        {
          "output_type": "stream",
          "name": "stderr",
          "text": [
            "\n"
          ]
        },
        {
          "output_type": "stream",
          "name": "stdout",
          "text": [
            "\n",
            "      Epoch    GPU_mem       loss  Instances       Size\n"
          ]
        },
        {
          "output_type": "stream",
          "name": "stderr",
          "text": [
            "     62/100     0.581G    0.07062          8        224: 100%|██████████| 13/13 [00:04<00:00,  3.23it/s]\n",
            "               classes   top1_acc   top5_acc: 100%|██████████| 1/1 [00:00<00:00, 32.09it/s]"
          ]
        },
        {
          "output_type": "stream",
          "name": "stdout",
          "text": [
            "                   all      0.878          1\n"
          ]
        },
        {
          "output_type": "stream",
          "name": "stderr",
          "text": [
            "\n"
          ]
        },
        {
          "output_type": "stream",
          "name": "stdout",
          "text": [
            "\n",
            "      Epoch    GPU_mem       loss  Instances       Size\n"
          ]
        },
        {
          "output_type": "stream",
          "name": "stderr",
          "text": [
            "     63/100     0.577G    0.04044          8        224: 100%|██████████| 13/13 [00:03<00:00,  3.32it/s]\n",
            "               classes   top1_acc   top5_acc: 100%|██████████| 1/1 [00:00<00:00, 31.66it/s]"
          ]
        },
        {
          "output_type": "stream",
          "name": "stdout",
          "text": [
            "                   all      0.816          1\n"
          ]
        },
        {
          "output_type": "stream",
          "name": "stderr",
          "text": [
            "\n"
          ]
        },
        {
          "output_type": "stream",
          "name": "stdout",
          "text": [
            "\n",
            "      Epoch    GPU_mem       loss  Instances       Size\n"
          ]
        },
        {
          "output_type": "stream",
          "name": "stderr",
          "text": [
            "     64/100     0.581G    0.04089          8        224: 100%|██████████| 13/13 [00:05<00:00,  2.48it/s]\n",
            "               classes   top1_acc   top5_acc: 100%|██████████| 1/1 [00:00<00:00, 39.23it/s]"
          ]
        },
        {
          "output_type": "stream",
          "name": "stdout",
          "text": [
            "                   all      0.816          1\n"
          ]
        },
        {
          "output_type": "stream",
          "name": "stderr",
          "text": [
            "\n"
          ]
        },
        {
          "output_type": "stream",
          "name": "stdout",
          "text": [
            "\n",
            "      Epoch    GPU_mem       loss  Instances       Size\n"
          ]
        },
        {
          "output_type": "stream",
          "name": "stderr",
          "text": [
            "     65/100     0.577G    0.09277          8        224: 100%|██████████| 13/13 [00:03<00:00,  3.39it/s]\n",
            "               classes   top1_acc   top5_acc: 100%|██████████| 1/1 [00:00<00:00, 50.91it/s]"
          ]
        },
        {
          "output_type": "stream",
          "name": "stdout",
          "text": [
            "                   all      0.816          1\n"
          ]
        },
        {
          "output_type": "stream",
          "name": "stderr",
          "text": [
            "\n"
          ]
        },
        {
          "output_type": "stream",
          "name": "stdout",
          "text": [
            "\n",
            "      Epoch    GPU_mem       loss  Instances       Size\n"
          ]
        },
        {
          "output_type": "stream",
          "name": "stderr",
          "text": [
            "     66/100     0.581G    0.04221          8        224: 100%|██████████| 13/13 [00:03<00:00,  3.32it/s]\n",
            "               classes   top1_acc   top5_acc: 100%|██████████| 1/1 [00:00<00:00, 24.12it/s]"
          ]
        },
        {
          "output_type": "stream",
          "name": "stdout",
          "text": [
            "                   all      0.857          1\n"
          ]
        },
        {
          "output_type": "stream",
          "name": "stderr",
          "text": [
            "\n"
          ]
        },
        {
          "output_type": "stream",
          "name": "stdout",
          "text": [
            "\n",
            "      Epoch    GPU_mem       loss  Instances       Size\n"
          ]
        },
        {
          "output_type": "stream",
          "name": "stderr",
          "text": [
            "     67/100     0.577G    0.03032          8        224: 100%|██████████| 13/13 [00:05<00:00,  2.54it/s]\n",
            "               classes   top1_acc   top5_acc: 100%|██████████| 1/1 [00:00<00:00, 53.59it/s]"
          ]
        },
        {
          "output_type": "stream",
          "name": "stdout",
          "text": [
            "                   all      0.837          1\n"
          ]
        },
        {
          "output_type": "stream",
          "name": "stderr",
          "text": [
            "\n"
          ]
        },
        {
          "output_type": "stream",
          "name": "stdout",
          "text": [
            "\n",
            "      Epoch    GPU_mem       loss  Instances       Size\n"
          ]
        },
        {
          "output_type": "stream",
          "name": "stderr",
          "text": [
            "     68/100     0.581G    0.03303          8        224: 100%|██████████| 13/13 [00:03<00:00,  3.31it/s]\n",
            "               classes   top1_acc   top5_acc: 100%|██████████| 1/1 [00:00<00:00, 45.90it/s]\n"
          ]
        },
        {
          "output_type": "stream",
          "name": "stdout",
          "text": [
            "                   all      0.837          1\n",
            "\n",
            "      Epoch    GPU_mem       loss  Instances       Size\n"
          ]
        },
        {
          "output_type": "stream",
          "name": "stderr",
          "text": [
            "     69/100     0.577G    0.05336          8        224: 100%|██████████| 13/13 [00:04<00:00,  3.05it/s]\n",
            "               classes   top1_acc   top5_acc: 100%|██████████| 1/1 [00:00<00:00, 13.05it/s]"
          ]
        },
        {
          "output_type": "stream",
          "name": "stdout",
          "text": [
            "                   all      0.878          1\n"
          ]
        },
        {
          "output_type": "stream",
          "name": "stderr",
          "text": [
            "\n"
          ]
        },
        {
          "output_type": "stream",
          "name": "stdout",
          "text": [
            "\n",
            "      Epoch    GPU_mem       loss  Instances       Size\n"
          ]
        },
        {
          "output_type": "stream",
          "name": "stderr",
          "text": [
            "     70/100     0.581G    0.03022          8        224: 100%|██████████| 13/13 [00:04<00:00,  2.87it/s]\n",
            "               classes   top1_acc   top5_acc: 100%|██████████| 1/1 [00:00<00:00, 62.73it/s]"
          ]
        },
        {
          "output_type": "stream",
          "name": "stdout",
          "text": [
            "                   all      0.857          1\n"
          ]
        },
        {
          "output_type": "stream",
          "name": "stderr",
          "text": [
            "\n"
          ]
        },
        {
          "output_type": "stream",
          "name": "stdout",
          "text": [
            "\n",
            "      Epoch    GPU_mem       loss  Instances       Size\n"
          ]
        },
        {
          "output_type": "stream",
          "name": "stderr",
          "text": [
            "     71/100     0.577G    0.02529          8        224: 100%|██████████| 13/13 [00:03<00:00,  3.32it/s]\n",
            "               classes   top1_acc   top5_acc: 100%|██████████| 1/1 [00:00<00:00, 47.83it/s]"
          ]
        },
        {
          "output_type": "stream",
          "name": "stdout",
          "text": [
            "                   all      0.837          1\n"
          ]
        },
        {
          "output_type": "stream",
          "name": "stderr",
          "text": [
            "\n"
          ]
        },
        {
          "output_type": "stream",
          "name": "stdout",
          "text": [
            "\n",
            "      Epoch    GPU_mem       loss  Instances       Size\n"
          ]
        },
        {
          "output_type": "stream",
          "name": "stderr",
          "text": [
            "     72/100     0.581G    0.04476          8        224: 100%|██████████| 13/13 [00:05<00:00,  2.55it/s]\n",
            "               classes   top1_acc   top5_acc: 100%|██████████| 1/1 [00:00<00:00, 30.82it/s]"
          ]
        },
        {
          "output_type": "stream",
          "name": "stdout",
          "text": [
            "                   all      0.837          1\n"
          ]
        },
        {
          "output_type": "stream",
          "name": "stderr",
          "text": [
            "\n"
          ]
        },
        {
          "output_type": "stream",
          "name": "stdout",
          "text": [
            "\n",
            "      Epoch    GPU_mem       loss  Instances       Size\n"
          ]
        },
        {
          "output_type": "stream",
          "name": "stderr",
          "text": [
            "     73/100     0.577G     0.0271          8        224: 100%|██████████| 13/13 [00:03<00:00,  3.28it/s]\n",
            "               classes   top1_acc   top5_acc: 100%|██████████| 1/1 [00:00<00:00, 51.02it/s]"
          ]
        },
        {
          "output_type": "stream",
          "name": "stdout",
          "text": [
            "                   all      0.816          1\n"
          ]
        },
        {
          "output_type": "stream",
          "name": "stderr",
          "text": [
            "\n"
          ]
        },
        {
          "output_type": "stream",
          "name": "stdout",
          "text": [
            "\n",
            "      Epoch    GPU_mem       loss  Instances       Size\n"
          ]
        },
        {
          "output_type": "stream",
          "name": "stderr",
          "text": [
            "     74/100     0.581G    0.04224          8        224: 100%|██████████| 13/13 [00:04<00:00,  3.20it/s]\n",
            "               classes   top1_acc   top5_acc: 100%|██████████| 1/1 [00:00<00:00, 34.53it/s]"
          ]
        },
        {
          "output_type": "stream",
          "name": "stdout",
          "text": [
            "                   all      0.837          1\n"
          ]
        },
        {
          "output_type": "stream",
          "name": "stderr",
          "text": [
            "\n"
          ]
        },
        {
          "output_type": "stream",
          "name": "stdout",
          "text": [
            "\n",
            "      Epoch    GPU_mem       loss  Instances       Size\n"
          ]
        },
        {
          "output_type": "stream",
          "name": "stderr",
          "text": [
            "     75/100     0.577G    0.02438          8        224: 100%|██████████| 13/13 [00:05<00:00,  2.56it/s]\n",
            "               classes   top1_acc   top5_acc: 100%|██████████| 1/1 [00:00<00:00, 49.13it/s]"
          ]
        },
        {
          "output_type": "stream",
          "name": "stdout",
          "text": [
            "                   all      0.816          1\n"
          ]
        },
        {
          "output_type": "stream",
          "name": "stderr",
          "text": [
            "\n"
          ]
        },
        {
          "output_type": "stream",
          "name": "stdout",
          "text": [
            "\n",
            "      Epoch    GPU_mem       loss  Instances       Size\n"
          ]
        },
        {
          "output_type": "stream",
          "name": "stderr",
          "text": [
            "     76/100     0.581G    0.02708          8        224: 100%|██████████| 13/13 [00:04<00:00,  3.17it/s]\n",
            "               classes   top1_acc   top5_acc: 100%|██████████| 1/1 [00:00<00:00, 29.89it/s]"
          ]
        },
        {
          "output_type": "stream",
          "name": "stdout",
          "text": [
            "                   all      0.816          1\n"
          ]
        },
        {
          "output_type": "stream",
          "name": "stderr",
          "text": [
            "\n"
          ]
        },
        {
          "output_type": "stream",
          "name": "stdout",
          "text": [
            "\n",
            "      Epoch    GPU_mem       loss  Instances       Size\n"
          ]
        },
        {
          "output_type": "stream",
          "name": "stderr",
          "text": [
            "     77/100     0.577G    0.05523          8        224: 100%|██████████| 13/13 [00:03<00:00,  3.30it/s]\n",
            "               classes   top1_acc   top5_acc: 100%|██████████| 1/1 [00:00<00:00, 48.35it/s]"
          ]
        },
        {
          "output_type": "stream",
          "name": "stdout",
          "text": [
            "                   all      0.816          1\n"
          ]
        },
        {
          "output_type": "stream",
          "name": "stderr",
          "text": [
            "\n"
          ]
        },
        {
          "output_type": "stream",
          "name": "stdout",
          "text": [
            "\n",
            "      Epoch    GPU_mem       loss  Instances       Size\n"
          ]
        },
        {
          "output_type": "stream",
          "name": "stderr",
          "text": [
            "     78/100     0.581G    0.03644          8        224: 100%|██████████| 13/13 [00:05<00:00,  2.41it/s]\n",
            "               classes   top1_acc   top5_acc: 100%|██████████| 1/1 [00:00<00:00, 42.53it/s]"
          ]
        },
        {
          "output_type": "stream",
          "name": "stdout",
          "text": [
            "                   all      0.816          1\n"
          ]
        },
        {
          "output_type": "stream",
          "name": "stderr",
          "text": [
            "\n"
          ]
        },
        {
          "output_type": "stream",
          "name": "stdout",
          "text": [
            "\n",
            "      Epoch    GPU_mem       loss  Instances       Size\n"
          ]
        },
        {
          "output_type": "stream",
          "name": "stderr",
          "text": [
            "     79/100     0.577G    0.03264          8        224: 100%|██████████| 13/13 [00:03<00:00,  3.36it/s]\n",
            "               classes   top1_acc   top5_acc: 100%|██████████| 1/1 [00:00<00:00, 24.73it/s]"
          ]
        },
        {
          "output_type": "stream",
          "name": "stdout",
          "text": [
            "                   all      0.837          1\n"
          ]
        },
        {
          "output_type": "stream",
          "name": "stderr",
          "text": [
            "\n"
          ]
        },
        {
          "output_type": "stream",
          "name": "stdout",
          "text": [
            "\n",
            "      Epoch    GPU_mem       loss  Instances       Size\n"
          ]
        },
        {
          "output_type": "stream",
          "name": "stderr",
          "text": [
            "     80/100     0.581G    0.03258          8        224: 100%|██████████| 13/13 [00:05<00:00,  2.35it/s]\n",
            "               classes   top1_acc   top5_acc: 100%|██████████| 1/1 [00:00<00:00, 19.57it/s]"
          ]
        },
        {
          "output_type": "stream",
          "name": "stdout",
          "text": [
            "                   all      0.776          1\n"
          ]
        },
        {
          "output_type": "stream",
          "name": "stderr",
          "text": [
            "\n"
          ]
        },
        {
          "output_type": "stream",
          "name": "stdout",
          "text": [
            "\n",
            "      Epoch    GPU_mem       loss  Instances       Size\n"
          ]
        },
        {
          "output_type": "stream",
          "name": "stderr",
          "text": [
            "     81/100     0.577G    0.02699          8        224: 100%|██████████| 13/13 [00:05<00:00,  2.58it/s]\n",
            "               classes   top1_acc   top5_acc: 100%|██████████| 1/1 [00:00<00:00, 44.55it/s]"
          ]
        },
        {
          "output_type": "stream",
          "name": "stdout",
          "text": [
            "                   all      0.776          1\n"
          ]
        },
        {
          "output_type": "stream",
          "name": "stderr",
          "text": [
            "\n"
          ]
        },
        {
          "output_type": "stream",
          "name": "stdout",
          "text": [
            "\n",
            "      Epoch    GPU_mem       loss  Instances       Size\n"
          ]
        },
        {
          "output_type": "stream",
          "name": "stderr",
          "text": [
            "     82/100     0.581G    0.02905          8        224: 100%|██████████| 13/13 [00:03<00:00,  3.36it/s]\n",
            "               classes   top1_acc   top5_acc: 100%|██████████| 1/1 [00:00<00:00, 38.83it/s]"
          ]
        },
        {
          "output_type": "stream",
          "name": "stdout",
          "text": [
            "                   all      0.776          1\n"
          ]
        },
        {
          "output_type": "stream",
          "name": "stderr",
          "text": [
            "\n"
          ]
        },
        {
          "output_type": "stream",
          "name": "stdout",
          "text": [
            "\n",
            "      Epoch    GPU_mem       loss  Instances       Size\n"
          ]
        },
        {
          "output_type": "stream",
          "name": "stderr",
          "text": [
            "     83/100     0.579G    0.04172          8        224: 100%|██████████| 13/13 [00:04<00:00,  2.84it/s]\n",
            "               classes   top1_acc   top5_acc: 100%|██████████| 1/1 [00:00<00:00, 17.57it/s]"
          ]
        },
        {
          "output_type": "stream",
          "name": "stdout",
          "text": [
            "                   all      0.816          1\n"
          ]
        },
        {
          "output_type": "stream",
          "name": "stderr",
          "text": [
            "\n"
          ]
        },
        {
          "output_type": "stream",
          "name": "stdout",
          "text": [
            "\n",
            "      Epoch    GPU_mem       loss  Instances       Size\n"
          ]
        },
        {
          "output_type": "stream",
          "name": "stderr",
          "text": [
            "     84/100     0.581G    0.09166          8        224: 100%|██████████| 13/13 [00:04<00:00,  2.91it/s]\n",
            "               classes   top1_acc   top5_acc: 100%|██████████| 1/1 [00:00<00:00, 45.70it/s]"
          ]
        },
        {
          "output_type": "stream",
          "name": "stdout",
          "text": [
            "                   all      0.837          1\n"
          ]
        },
        {
          "output_type": "stream",
          "name": "stderr",
          "text": [
            "\n"
          ]
        },
        {
          "output_type": "stream",
          "name": "stdout",
          "text": [
            "\n",
            "      Epoch    GPU_mem       loss  Instances       Size\n"
          ]
        },
        {
          "output_type": "stream",
          "name": "stderr",
          "text": [
            "     85/100     0.577G    0.04475          8        224: 100%|██████████| 13/13 [00:03<00:00,  3.42it/s]\n",
            "               classes   top1_acc   top5_acc: 100%|██████████| 1/1 [00:00<00:00, 33.67it/s]"
          ]
        },
        {
          "output_type": "stream",
          "name": "stdout",
          "text": [
            "                   all      0.878          1\n"
          ]
        },
        {
          "output_type": "stream",
          "name": "stderr",
          "text": [
            "\n"
          ]
        },
        {
          "output_type": "stream",
          "name": "stdout",
          "text": [
            "\n",
            "      Epoch    GPU_mem       loss  Instances       Size\n"
          ]
        },
        {
          "output_type": "stream",
          "name": "stderr",
          "text": [
            "     86/100     0.581G    0.04993          8        224: 100%|██████████| 13/13 [00:05<00:00,  2.43it/s]\n",
            "               classes   top1_acc   top5_acc: 100%|██████████| 1/1 [00:00<00:00, 54.44it/s]"
          ]
        },
        {
          "output_type": "stream",
          "name": "stdout",
          "text": [
            "                   all      0.878          1\n"
          ]
        },
        {
          "output_type": "stream",
          "name": "stderr",
          "text": [
            "\n"
          ]
        },
        {
          "output_type": "stream",
          "name": "stdout",
          "text": [
            "\n",
            "      Epoch    GPU_mem       loss  Instances       Size\n"
          ]
        },
        {
          "output_type": "stream",
          "name": "stderr",
          "text": [
            "     87/100     0.577G     0.0183          8        224: 100%|██████████| 13/13 [00:03<00:00,  3.38it/s]\n",
            "               classes   top1_acc   top5_acc: 100%|██████████| 1/1 [00:00<00:00, 51.61it/s]"
          ]
        },
        {
          "output_type": "stream",
          "name": "stdout",
          "text": [
            "                   all      0.857          1\n"
          ]
        },
        {
          "output_type": "stream",
          "name": "stderr",
          "text": [
            "\n"
          ]
        },
        {
          "output_type": "stream",
          "name": "stdout",
          "text": [
            "\n",
            "      Epoch    GPU_mem       loss  Instances       Size\n"
          ]
        },
        {
          "output_type": "stream",
          "name": "stderr",
          "text": [
            "     88/100     0.581G      0.034          8        224: 100%|██████████| 13/13 [00:04<00:00,  3.23it/s]\n",
            "               classes   top1_acc   top5_acc: 100%|██████████| 1/1 [00:00<00:00, 42.66it/s]"
          ]
        },
        {
          "output_type": "stream",
          "name": "stdout",
          "text": [
            "                   all      0.837          1\n"
          ]
        },
        {
          "output_type": "stream",
          "name": "stderr",
          "text": [
            "\n"
          ]
        },
        {
          "output_type": "stream",
          "name": "stdout",
          "text": [
            "\n",
            "      Epoch    GPU_mem       loss  Instances       Size\n"
          ]
        },
        {
          "output_type": "stream",
          "name": "stderr",
          "text": [
            "     89/100     0.577G    0.01976          8        224: 100%|██████████| 13/13 [00:05<00:00,  2.46it/s]\n",
            "               classes   top1_acc   top5_acc: 100%|██████████| 1/1 [00:00<00:00, 51.69it/s]"
          ]
        },
        {
          "output_type": "stream",
          "name": "stdout",
          "text": [
            "                   all      0.837          1\n"
          ]
        },
        {
          "output_type": "stream",
          "name": "stderr",
          "text": [
            "\n"
          ]
        },
        {
          "output_type": "stream",
          "name": "stdout",
          "text": [
            "\n",
            "      Epoch    GPU_mem       loss  Instances       Size\n"
          ]
        },
        {
          "output_type": "stream",
          "name": "stderr",
          "text": [
            "     90/100     0.581G      0.049          8        224: 100%|██████████| 13/13 [00:04<00:00,  3.23it/s]\n",
            "               classes   top1_acc   top5_acc: 100%|██████████| 1/1 [00:00<00:00, 31.97it/s]"
          ]
        },
        {
          "output_type": "stream",
          "name": "stdout",
          "text": [
            "                   all      0.837          1\n"
          ]
        },
        {
          "output_type": "stream",
          "name": "stderr",
          "text": [
            "\n"
          ]
        },
        {
          "output_type": "stream",
          "name": "stdout",
          "text": [
            "\n",
            "      Epoch    GPU_mem       loss  Instances       Size\n"
          ]
        },
        {
          "output_type": "stream",
          "name": "stderr",
          "text": [
            "     91/100     0.577G    0.02512          8        224: 100%|██████████| 13/13 [00:04<00:00,  2.65it/s]\n",
            "               classes   top1_acc   top5_acc: 100%|██████████| 1/1 [00:00<00:00, 17.34it/s]"
          ]
        },
        {
          "output_type": "stream",
          "name": "stdout",
          "text": [
            "                   all      0.837          1\n"
          ]
        },
        {
          "output_type": "stream",
          "name": "stderr",
          "text": [
            "\n"
          ]
        },
        {
          "output_type": "stream",
          "name": "stdout",
          "text": [
            "\n",
            "      Epoch    GPU_mem       loss  Instances       Size\n"
          ]
        },
        {
          "output_type": "stream",
          "name": "stderr",
          "text": [
            "     92/100     0.581G    0.05555          8        224: 100%|██████████| 13/13 [00:04<00:00,  2.98it/s]\n",
            "               classes   top1_acc   top5_acc: 100%|██████████| 1/1 [00:00<00:00, 19.42it/s]"
          ]
        },
        {
          "output_type": "stream",
          "name": "stdout",
          "text": [
            "                   all      0.857          1\n"
          ]
        },
        {
          "output_type": "stream",
          "name": "stderr",
          "text": [
            "\n"
          ]
        },
        {
          "output_type": "stream",
          "name": "stdout",
          "text": [
            "\n",
            "      Epoch    GPU_mem       loss  Instances       Size\n"
          ]
        },
        {
          "output_type": "stream",
          "name": "stderr",
          "text": [
            "     93/100     0.579G    0.03369          8        224: 100%|██████████| 13/13 [00:03<00:00,  3.27it/s]\n",
            "               classes   top1_acc   top5_acc: 100%|██████████| 1/1 [00:00<00:00, 24.04it/s]"
          ]
        },
        {
          "output_type": "stream",
          "name": "stdout",
          "text": [
            "                   all      0.837          1\n"
          ]
        },
        {
          "output_type": "stream",
          "name": "stderr",
          "text": [
            "\n"
          ]
        },
        {
          "output_type": "stream",
          "name": "stdout",
          "text": [
            "\n",
            "      Epoch    GPU_mem       loss  Instances       Size\n"
          ]
        },
        {
          "output_type": "stream",
          "name": "stderr",
          "text": [
            "     94/100     0.581G    0.01899          8        224: 100%|██████████| 13/13 [00:05<00:00,  2.44it/s]\n",
            "               classes   top1_acc   top5_acc: 100%|██████████| 1/1 [00:00<00:00, 59.74it/s]"
          ]
        },
        {
          "output_type": "stream",
          "name": "stdout",
          "text": [
            "                   all      0.796          1\n"
          ]
        },
        {
          "output_type": "stream",
          "name": "stderr",
          "text": [
            "\n"
          ]
        },
        {
          "output_type": "stream",
          "name": "stdout",
          "text": [
            "\n",
            "      Epoch    GPU_mem       loss  Instances       Size\n"
          ]
        },
        {
          "output_type": "stream",
          "name": "stderr",
          "text": [
            "     95/100     0.577G      0.049          8        224: 100%|██████████| 13/13 [00:04<00:00,  3.15it/s]\n",
            "               classes   top1_acc   top5_acc: 100%|██████████| 1/1 [00:00<00:00, 23.89it/s]"
          ]
        },
        {
          "output_type": "stream",
          "name": "stdout",
          "text": [
            "                   all      0.816          1\n"
          ]
        },
        {
          "output_type": "stream",
          "name": "stderr",
          "text": [
            "\n"
          ]
        },
        {
          "output_type": "stream",
          "name": "stdout",
          "text": [
            "\n",
            "      Epoch    GPU_mem       loss  Instances       Size\n"
          ]
        },
        {
          "output_type": "stream",
          "name": "stderr",
          "text": [
            "     96/100     0.581G    0.04619          8        224: 100%|██████████| 13/13 [00:04<00:00,  3.12it/s]\n",
            "               classes   top1_acc   top5_acc: 100%|██████████| 1/1 [00:00<00:00, 53.87it/s]"
          ]
        },
        {
          "output_type": "stream",
          "name": "stdout",
          "text": [
            "                   all      0.796          1\n"
          ]
        },
        {
          "output_type": "stream",
          "name": "stderr",
          "text": [
            "\n"
          ]
        },
        {
          "output_type": "stream",
          "name": "stdout",
          "text": [
            "\n",
            "      Epoch    GPU_mem       loss  Instances       Size\n"
          ]
        },
        {
          "output_type": "stream",
          "name": "stderr",
          "text": [
            "     97/100     0.577G    0.02037          8        224: 100%|██████████| 13/13 [00:05<00:00,  2.42it/s]\n",
            "               classes   top1_acc   top5_acc: 100%|██████████| 1/1 [00:00<00:00, 41.47it/s]"
          ]
        },
        {
          "output_type": "stream",
          "name": "stdout",
          "text": [
            "                   all      0.816          1\n"
          ]
        },
        {
          "output_type": "stream",
          "name": "stderr",
          "text": [
            "\n"
          ]
        },
        {
          "output_type": "stream",
          "name": "stdout",
          "text": [
            "\n",
            "      Epoch    GPU_mem       loss  Instances       Size\n"
          ]
        },
        {
          "output_type": "stream",
          "name": "stderr",
          "text": [
            "     98/100     0.581G    0.02572          8        224: 100%|██████████| 13/13 [00:03<00:00,  3.29it/s]\n",
            "               classes   top1_acc   top5_acc: 100%|██████████| 1/1 [00:00<00:00, 59.18it/s]"
          ]
        },
        {
          "output_type": "stream",
          "name": "stdout",
          "text": [
            "                   all      0.816          1\n"
          ]
        },
        {
          "output_type": "stream",
          "name": "stderr",
          "text": [
            "\n"
          ]
        },
        {
          "output_type": "stream",
          "name": "stdout",
          "text": [
            "\n",
            "      Epoch    GPU_mem       loss  Instances       Size\n"
          ]
        },
        {
          "output_type": "stream",
          "name": "stderr",
          "text": [
            "     99/100     0.577G    0.05121          8        224: 100%|██████████| 13/13 [00:03<00:00,  3.32it/s]\n",
            "               classes   top1_acc   top5_acc: 100%|██████████| 1/1 [00:00<00:00, 17.86it/s]"
          ]
        },
        {
          "output_type": "stream",
          "name": "stdout",
          "text": [
            "                   all      0.816          1\n"
          ]
        },
        {
          "output_type": "stream",
          "name": "stderr",
          "text": [
            "\n"
          ]
        },
        {
          "output_type": "stream",
          "name": "stdout",
          "text": [
            "\n",
            "      Epoch    GPU_mem       loss  Instances       Size\n"
          ]
        },
        {
          "output_type": "stream",
          "name": "stderr",
          "text": [
            "    100/100     0.581G    0.02237          8        224: 100%|██████████| 13/13 [00:04<00:00,  2.71it/s]\n",
            "               classes   top1_acc   top5_acc: 100%|██████████| 1/1 [00:00<00:00, 52.67it/s]\n"
          ]
        },
        {
          "output_type": "stream",
          "name": "stdout",
          "text": [
            "                   all      0.816          1\n",
            "\n",
            "100 epochs completed in 0.138 hours.\n",
            "Optimizer stripped from runs/classify/train2/weights/last.pt, 3.0MB\n",
            "Optimizer stripped from runs/classify/train2/weights/best.pt, 3.0MB\n",
            "\n",
            "Validating runs/classify/train2/weights/best.pt...\n",
            "Ultralytics YOLOv8.1.9 🚀 Python-3.10.12 torch-2.1.0+cu121 CUDA:0 (Tesla T4, 15102MiB)\n",
            "YOLOv8n-cls summary (fused): 73 layers, 1437442 parameters, 0 gradients, 3.3 GFLOPs\n",
            "\u001b[34m\u001b[1mtrain:\u001b[0m /content/drive/MyDrive/Thesis/RIM-ONE_PRC_ROI/train... found 392 images in 2 classes ✅ \n",
            "\u001b[34m\u001b[1mval:\u001b[0m /content/drive/MyDrive/Thesis/RIM-ONE_PRC_ROI/val... found 49 images in 2 classes ✅ \n",
            "\u001b[34m\u001b[1mtest:\u001b[0m /content/drive/MyDrive/Thesis/RIM-ONE_PRC_ROI/test... found 49 images in 2 classes ✅ \n"
          ]
        },
        {
          "output_type": "stream",
          "name": "stderr",
          "text": [
            "               classes   top1_acc   top5_acc: 100%|██████████| 1/1 [00:00<00:00, 32.32it/s]\n"
          ]
        },
        {
          "output_type": "stream",
          "name": "stdout",
          "text": [
            "                   all      0.898          1\n",
            "Speed: 0.1ms preprocess, 0.2ms inference, 0.0ms loss, 0.0ms postprocess per image\n",
            "Results saved to \u001b[1mruns/classify/train2\u001b[0m\n",
            "Results saved to \u001b[1mruns/classify/train2\u001b[0m\n"
          ]
        }
      ]
    },
    {
      "cell_type": "markdown",
      "source": [
        "------------------------------------------------------------\n",
        "**Testing with finetuned model**"
      ],
      "metadata": {
        "id": "5WtIIczprab_"
      }
    },
    {
      "cell_type": "code",
      "source": [
        "# dictionary of best finetuned models\n",
        "paths = {'ACRIMA': '/content/drive/MyDrive/Thesis/trained_models/YOLOv8_ACRIMA_100eps_Jan26.pt',\n",
        "         'ORIGA': '/content/drive/MyDrive/Thesis/trained_models/YOLOv8_ORIGA_100eps_Jan26.pt',\n",
        "         'REFUGE': '/content/drive/MyDrive/Thesis/trained_models/YOLOv8_REFUGE_100eps_Jan26.pt',\n",
        "         'RIM-ONE': '/content/drive/MyDrive/Thesis/trained_models/YOLOv8_RIM-ONE_100eps_Jan26.pt',\n",
        "         'ACRIMA_PRC': '/content/drive/MyDrive/Thesis/trained_models/YOLOv8_ACRIMA_PRC_100eps_Feb3.pt',\n",
        "         'ORIGA_PRC': '/content/drive/MyDrive/Thesis/trained_models/YOLOv8_ORIGA_PRC_100eps_Feb3.pt',\n",
        "         'REFUGE_PRC': '/content/drive/MyDrive/Thesis/trained_models/YOLOv8_REFUGE_PRC_100eps_Feb3.pt',\n",
        "         'RIM-ONE_PRC': '/content/drive/MyDrive/Thesis/trained_models/YOLOv8_RIM-ONE_PRC_100eps_Feb3.pt'}"
      ],
      "metadata": {
        "id": "dMo0g5qxtsWZ"
      },
      "execution_count": 3,
      "outputs": []
    },
    {
      "cell_type": "code",
      "source": [
        "# load model with best training weights\n",
        "finetuned = 'RIM-ONE_PRC'\n",
        "best_path = paths[finetuned]\n",
        "model = YOLO(best_path)"
      ],
      "metadata": {
        "id": "3A4k_TLxOBjb"
      },
      "execution_count": 4,
      "outputs": []
    },
    {
      "cell_type": "code",
      "source": [
        "# function to test model and get AUC score, ROC metrics\n",
        "def collect_auc_roc(labels_list, softmax_list):\n",
        "\n",
        "    # calculate AUC score, FPR and TPR rates for ROC curve from labels and softmax predictions\n",
        "\n",
        "    score = roc_auc_score(labels_list, softmax_list)\n",
        "    fpr, tpr, _ = roc_curve(labels_list, softmax_list, pos_label = '1')\n",
        "\n",
        "    return score, fpr, tpr\n",
        "\n",
        "# function to get confusion matrix metrics from predictions and labels\n",
        "def acc_and_confusion(preds_list, labels_list):\n",
        "    tp = 0\n",
        "    tn = 0\n",
        "    fp = 0\n",
        "    fn = 0\n",
        "    total = len(preds_list)\n",
        "\n",
        "    for i in range(len(preds_list)):\n",
        "        # correct class\n",
        "        if preds_list[i] == labels_list[i]:\n",
        "            if preds_list[i] == '1' and labels_list[i] == '1': tp += 1\n",
        "            elif preds_list[i] == '0' and labels_list[i] == '0': tn += 1\n",
        "            # ensure all predictions are sorted\n",
        "            else: print(\"equal not true\")\n",
        "\n",
        "        # incorrect class\n",
        "        if preds_list[i] != labels_list[i]:\n",
        "            if preds_list[i] == '1' and labels_list[i] == '0': fp += 1\n",
        "            elif preds_list[i] == '0' and labels_list[i] == '1': fn += 1\n",
        "            # ensure all predictions are sorted\n",
        "            else: print(\"unequal not true\")\n",
        "\n",
        "    # calculate accuracy\n",
        "    acc = (tp + tn) / total\n",
        "    assert total == tp+tn+fp+fn\n",
        "\n",
        "    return acc, tp, tn, fp, fn"
      ],
      "metadata": {
        "id": "L7OloGAEUw83"
      },
      "execution_count": 5,
      "outputs": []
    },
    {
      "cell_type": "code",
      "source": [
        "# TEST ON ALL DATASETS\n",
        "test_sets = ['ACRIMA_PRC', 'ORIGA_PRC', 'REFUGE_PRC', 'RIM-ONE_PRC']\n",
        "\n",
        "colors = ['green', 'orange', 'red', 'blue']\n",
        "\n",
        "# create empty figure\n",
        "plt.figure()\n",
        "i = 0\n",
        "\n",
        "for test_set in test_sets:\n",
        "  test_path = '/content/drive/MyDrive/Thesis/' + test_set + '_ROI/test/'\n",
        "\n",
        "  print(\"Loading for: \", test_set)\n",
        "\n",
        "  labels_list = []\n",
        "  preds_list = []\n",
        "  softmax_list = []\n",
        "\n",
        "  for cls in ['0', '1']:\n",
        "    label = cls\n",
        "    path = test_path + cls + '/'\n",
        "\n",
        "    for filename in os.listdir(path):\n",
        "      img = path + filename\n",
        "      results = model.predict(img, imgsz=224)\n",
        "      result = results[0]\n",
        "\n",
        "      class_names = result.names\n",
        "      probs = result.probs.data.tolist()\n",
        "      pred = class_names[np.argmax(probs)].upper()\n",
        "\n",
        "      labels_list += [label]\n",
        "      preds_list += [pred]\n",
        "      softmax_list += [probs[1]]\n",
        "\n",
        "  acc, tp, tn, fp, fn = acc_and_confusion(preds_list, labels_list)\n",
        "  print(\"Accuracy: \", acc)\n",
        "  print(\"TP: \", tp)\n",
        "  print(\"TN: \", tn)\n",
        "  print(\"FP: \", fp)\n",
        "  print(\"FN: \", fn)\n",
        "\n",
        "  score, fpr, tpr = collect_auc_roc(labels_list, softmax_list)\n",
        "\n",
        "  print(\"AUC score: \" + str(score))\n",
        "\n",
        "  # add ROC curve to plot for each test set\n",
        "  plt.plot(fpr, tpr, label=test_set + \" (AUC = \" + str(round(score,2)) + \")\", color=colors[i])\n",
        "  i += 1\n",
        "\n",
        "  print(\" \")\n",
        "\n",
        "# show and save plot with all 4 test set curves\n",
        "plt.xlabel(\"False Positive Rate\")\n",
        "plt.ylabel(\"True Positive Rate\")\n",
        "plt.title(\"ROC Curves for \" + finetuned + \"-Trained Model\")\n",
        "plt.legend()\n",
        "plt.savefig('/content/drive/MyDrive/Thesis/ROC curve plots/' + finetuned + '_YOLOv8_100eps_ROC_curve.png')\n",
        "plt.show()"
      ],
      "metadata": {
        "colab": {
          "base_uri": "https://localhost:8080/",
          "height": 1000
        },
        "id": "E2dUHp6cPNB8",
        "outputId": "2328cff0-fba2-4959-904b-fc8d5dc13005"
      },
      "execution_count": 6,
      "outputs": [
        {
          "output_type": "stream",
          "name": "stdout",
          "text": [
            "Loading for:  ACRIMA_PRC\n",
            "\n",
            "image 1/1 /content/drive/MyDrive/Thesis/ACRIMA_PRC_ROI/test/0/Im003_ACRIMA.jpg: 224x224 1 0.99, 0 0.01, 2.9ms\n",
            "Speed: 54.5ms preprocess, 2.9ms inference, 0.0ms postprocess per image at shape (1, 3, 224, 224)\n",
            "\n",
            "image 1/1 /content/drive/MyDrive/Thesis/ACRIMA_PRC_ROI/test/0/Im005_ACRIMA.jpg: 224x224 1 0.52, 0 0.48, 3.3ms\n",
            "Speed: 3.5ms preprocess, 3.3ms inference, 0.0ms postprocess per image at shape (1, 3, 224, 224)\n",
            "\n",
            "image 1/1 /content/drive/MyDrive/Thesis/ACRIMA_PRC_ROI/test/0/Im017_ACRIMA.jpg: 224x224 1 0.70, 0 0.30, 2.9ms\n",
            "Speed: 1.9ms preprocess, 2.9ms inference, 0.0ms postprocess per image at shape (1, 3, 224, 224)\n",
            "\n",
            "image 1/1 /content/drive/MyDrive/Thesis/ACRIMA_PRC_ROI/test/0/Im075_ACRIMA.jpg: 224x224 0 0.70, 1 0.30, 2.9ms\n",
            "Speed: 2.1ms preprocess, 2.9ms inference, 0.0ms postprocess per image at shape (1, 3, 224, 224)\n",
            "\n",
            "image 1/1 /content/drive/MyDrive/Thesis/ACRIMA_PRC_ROI/test/0/Im076_ACRIMA.jpg: 224x224 1 0.62, 0 0.38, 2.9ms\n",
            "Speed: 2.1ms preprocess, 2.9ms inference, 0.0ms postprocess per image at shape (1, 3, 224, 224)\n",
            "\n",
            "image 1/1 /content/drive/MyDrive/Thesis/ACRIMA_PRC_ROI/test/0/Im080_ACRIMA.jpg: 224x224 0 0.65, 1 0.35, 2.9ms\n",
            "Speed: 2.7ms preprocess, 2.9ms inference, 0.0ms postprocess per image at shape (1, 3, 224, 224)\n",
            "\n",
            "image 1/1 /content/drive/MyDrive/Thesis/ACRIMA_PRC_ROI/test/0/Im086_ACRIMA.jpg: 224x224 1 0.85, 0 0.15, 2.9ms\n",
            "Speed: 2.3ms preprocess, 2.9ms inference, 0.1ms postprocess per image at shape (1, 3, 224, 224)\n",
            "\n",
            "image 1/1 /content/drive/MyDrive/Thesis/ACRIMA_PRC_ROI/test/0/Im088_ACRIMA.jpg: 224x224 0 0.96, 1 0.04, 2.9ms\n",
            "Speed: 2.2ms preprocess, 2.9ms inference, 0.0ms postprocess per image at shape (1, 3, 224, 224)\n",
            "\n",
            "image 1/1 /content/drive/MyDrive/Thesis/ACRIMA_PRC_ROI/test/0/Im129_ACRIMA.jpg: 224x224 1 0.84, 0 0.16, 2.9ms\n",
            "Speed: 2.0ms preprocess, 2.9ms inference, 0.1ms postprocess per image at shape (1, 3, 224, 224)\n",
            "\n",
            "image 1/1 /content/drive/MyDrive/Thesis/ACRIMA_PRC_ROI/test/0/Im136_ACRIMA.jpg: 224x224 0 0.73, 1 0.27, 2.9ms\n",
            "Speed: 2.1ms preprocess, 2.9ms inference, 0.0ms postprocess per image at shape (1, 3, 224, 224)\n",
            "\n",
            "image 1/1 /content/drive/MyDrive/Thesis/ACRIMA_PRC_ROI/test/0/Im141_ACRIMA.jpg: 224x224 0 0.75, 1 0.25, 4.8ms\n",
            "Speed: 3.1ms preprocess, 4.8ms inference, 0.1ms postprocess per image at shape (1, 3, 224, 224)\n",
            "\n",
            "image 1/1 /content/drive/MyDrive/Thesis/ACRIMA_PRC_ROI/test/0/Im147_ACRIMA.jpg: 224x224 1 0.84, 0 0.16, 4.5ms\n",
            "Speed: 2.9ms preprocess, 4.5ms inference, 0.1ms postprocess per image at shape (1, 3, 224, 224)\n",
            "\n",
            "image 1/1 /content/drive/MyDrive/Thesis/ACRIMA_PRC_ROI/test/0/Im152_ACRIMA.jpg: 224x224 0 0.81, 1 0.19, 8.9ms\n",
            "Speed: 3.0ms preprocess, 8.9ms inference, 0.1ms postprocess per image at shape (1, 3, 224, 224)\n",
            "\n",
            "image 1/1 /content/drive/MyDrive/Thesis/ACRIMA_PRC_ROI/test/0/Im159_ACRIMA.jpg: 224x224 0 0.83, 1 0.17, 10.9ms\n",
            "Speed: 2.9ms preprocess, 10.9ms inference, 0.1ms postprocess per image at shape (1, 3, 224, 224)\n",
            "\n",
            "image 1/1 /content/drive/MyDrive/Thesis/ACRIMA_PRC_ROI/test/0/Im166_ACRIMA.jpg: 224x224 1 0.51, 0 0.49, 4.6ms\n",
            "Speed: 4.2ms preprocess, 4.6ms inference, 0.1ms postprocess per image at shape (1, 3, 224, 224)\n",
            "\n",
            "image 1/1 /content/drive/MyDrive/Thesis/ACRIMA_PRC_ROI/test/0/Im180_ACRIMA.jpg: 224x224 0 0.95, 1 0.05, 8.8ms\n",
            "Speed: 2.9ms preprocess, 8.8ms inference, 0.1ms postprocess per image at shape (1, 3, 224, 224)\n",
            "\n",
            "image 1/1 /content/drive/MyDrive/Thesis/ACRIMA_PRC_ROI/test/0/Im187_ACRIMA.jpg: 224x224 1 0.74, 0 0.26, 5.4ms\n",
            "Speed: 3.0ms preprocess, 5.4ms inference, 0.1ms postprocess per image at shape (1, 3, 224, 224)\n",
            "\n",
            "image 1/1 /content/drive/MyDrive/Thesis/ACRIMA_PRC_ROI/test/0/Im199_ACRIMA.jpg: 224x224 1 0.98, 0 0.02, 6.1ms\n",
            "Speed: 2.7ms preprocess, 6.1ms inference, 0.1ms postprocess per image at shape (1, 3, 224, 224)\n",
            "\n",
            "image 1/1 /content/drive/MyDrive/Thesis/ACRIMA_PRC_ROI/test/0/Im203_ACRIMA.jpg: 224x224 0 0.99, 1 0.01, 5.8ms\n",
            "Speed: 2.9ms preprocess, 5.8ms inference, 0.1ms postprocess per image at shape (1, 3, 224, 224)\n",
            "\n",
            "image 1/1 /content/drive/MyDrive/Thesis/ACRIMA_PRC_ROI/test/0/Im237_ACRIMA.jpg: 224x224 1 0.58, 0 0.42, 6.0ms\n",
            "Speed: 4.7ms preprocess, 6.0ms inference, 0.1ms postprocess per image at shape (1, 3, 224, 224)\n",
            "\n",
            "image 1/1 /content/drive/MyDrive/Thesis/ACRIMA_PRC_ROI/test/0/Im245_ACRIMA.jpg: 224x224 1 0.59, 0 0.41, 17.6ms\n",
            "Speed: 2.9ms preprocess, 17.6ms inference, 0.1ms postprocess per image at shape (1, 3, 224, 224)\n",
            "\n",
            "image 1/1 /content/drive/MyDrive/Thesis/ACRIMA_PRC_ROI/test/0/Im249_ACRIMA.jpg: 224x224 0 0.59, 1 0.41, 11.7ms\n",
            "Speed: 2.8ms preprocess, 11.7ms inference, 0.1ms postprocess per image at shape (1, 3, 224, 224)\n",
            "\n",
            "image 1/1 /content/drive/MyDrive/Thesis/ACRIMA_PRC_ROI/test/0/Im255_ACRIMA.jpg: 224x224 1 0.79, 0 0.21, 3.1ms\n",
            "Speed: 2.5ms preprocess, 3.1ms inference, 0.0ms postprocess per image at shape (1, 3, 224, 224)\n",
            "\n",
            "image 1/1 /content/drive/MyDrive/Thesis/ACRIMA_PRC_ROI/test/0/Im262_ACRIMA.jpg: 224x224 0 0.97, 1 0.03, 3.3ms\n",
            "Speed: 2.6ms preprocess, 3.3ms inference, 0.0ms postprocess per image at shape (1, 3, 224, 224)\n",
            "\n",
            "image 1/1 /content/drive/MyDrive/Thesis/ACRIMA_PRC_ROI/test/0/Im283_ACRIMA.jpg: 224x224 0 0.99, 1 0.01, 2.9ms\n",
            "Speed: 2.1ms preprocess, 2.9ms inference, 0.0ms postprocess per image at shape (1, 3, 224, 224)\n",
            "\n",
            "image 1/1 /content/drive/MyDrive/Thesis/ACRIMA_PRC_ROI/test/0/Im288_ACRIMA.jpg: 224x224 0 0.68, 1 0.32, 3.9ms\n",
            "Speed: 2.9ms preprocess, 3.9ms inference, 0.1ms postprocess per image at shape (1, 3, 224, 224)\n",
            "\n",
            "image 1/1 /content/drive/MyDrive/Thesis/ACRIMA_PRC_ROI/test/1/Im341_g_ACRIMA.jpg: 224x224 1 0.99, 0 0.01, 4.7ms\n",
            "Speed: 3.4ms preprocess, 4.7ms inference, 0.1ms postprocess per image at shape (1, 3, 224, 224)\n",
            "\n",
            "image 1/1 /content/drive/MyDrive/Thesis/ACRIMA_PRC_ROI/test/1/Im344_g_ACRIMA.jpg: 224x224 1 1.00, 0 0.00, 4.8ms\n",
            "Speed: 3.9ms preprocess, 4.8ms inference, 0.1ms postprocess per image at shape (1, 3, 224, 224)\n",
            "\n",
            "image 1/1 /content/drive/MyDrive/Thesis/ACRIMA_PRC_ROI/test/1/Im352_g_ACRIMA.jpg: 224x224 1 0.97, 0 0.03, 5.0ms\n",
            "Speed: 2.9ms preprocess, 5.0ms inference, 0.1ms postprocess per image at shape (1, 3, 224, 224)\n",
            "\n",
            "image 1/1 /content/drive/MyDrive/Thesis/ACRIMA_PRC_ROI/test/1/Im356_g_ACRIMA.jpg: 224x224 1 0.97, 0 0.03, 2.9ms\n",
            "Speed: 2.1ms preprocess, 2.9ms inference, 0.0ms postprocess per image at shape (1, 3, 224, 224)\n",
            "\n",
            "image 1/1 /content/drive/MyDrive/Thesis/ACRIMA_PRC_ROI/test/1/Im367_g_ACRIMA.jpg: 224x224 1 0.93, 0 0.07, 3.1ms\n",
            "Speed: 2.5ms preprocess, 3.1ms inference, 0.0ms postprocess per image at shape (1, 3, 224, 224)\n",
            "\n",
            "image 1/1 /content/drive/MyDrive/Thesis/ACRIMA_PRC_ROI/test/1/Im368_g_ACRIMA.jpg: 224x224 1 1.00, 0 0.00, 5.1ms\n",
            "Speed: 2.9ms preprocess, 5.1ms inference, 0.1ms postprocess per image at shape (1, 3, 224, 224)\n",
            "\n",
            "image 1/1 /content/drive/MyDrive/Thesis/ACRIMA_PRC_ROI/test/1/Im372_g_ACRIMA.jpg: 224x224 1 0.92, 0 0.08, 2.9ms\n",
            "Speed: 1.8ms preprocess, 2.9ms inference, 0.0ms postprocess per image at shape (1, 3, 224, 224)\n",
            "\n",
            "image 1/1 /content/drive/MyDrive/Thesis/ACRIMA_PRC_ROI/test/1/Im371_g_ACRIMA.jpg: 224x224 1 0.99, 0 0.01, 3.1ms\n",
            "Speed: 2.1ms preprocess, 3.1ms inference, 0.0ms postprocess per image at shape (1, 3, 224, 224)\n",
            "\n",
            "image 1/1 /content/drive/MyDrive/Thesis/ACRIMA_PRC_ROI/test/1/Im378_g_ACRIMA.jpg: 224x224 1 0.99, 0 0.01, 3.2ms\n",
            "Speed: 2.0ms preprocess, 3.2ms inference, 0.0ms postprocess per image at shape (1, 3, 224, 224)\n",
            "\n",
            "image 1/1 /content/drive/MyDrive/Thesis/ACRIMA_PRC_ROI/test/1/Im388_g_ACRIMA.jpg: 224x224 1 0.99, 0 0.01, 2.8ms\n",
            "Speed: 1.9ms preprocess, 2.8ms inference, 0.0ms postprocess per image at shape (1, 3, 224, 224)\n",
            "\n",
            "image 1/1 /content/drive/MyDrive/Thesis/ACRIMA_PRC_ROI/test/1/Im390_g_ACRIMA.jpg: 224x224 0 0.86, 1 0.14, 3.1ms\n",
            "Speed: 2.1ms preprocess, 3.1ms inference, 0.1ms postprocess per image at shape (1, 3, 224, 224)\n",
            "\n",
            "image 1/1 /content/drive/MyDrive/Thesis/ACRIMA_PRC_ROI/test/1/Im394_g_ACRIMA.jpg: 224x224 0 0.53, 1 0.47, 4.1ms\n",
            "Speed: 2.7ms preprocess, 4.1ms inference, 0.0ms postprocess per image at shape (1, 3, 224, 224)\n",
            "\n",
            "image 1/1 /content/drive/MyDrive/Thesis/ACRIMA_PRC_ROI/test/1/Im398_g_ACRIMA.jpg: 224x224 1 1.00, 0 0.00, 4.8ms\n",
            "Speed: 2.1ms preprocess, 4.8ms inference, 0.0ms postprocess per image at shape (1, 3, 224, 224)\n",
            "\n",
            "image 1/1 /content/drive/MyDrive/Thesis/ACRIMA_PRC_ROI/test/1/Im399_g_ACRIMA.jpg: 224x224 1 0.98, 0 0.02, 3.4ms\n",
            "Speed: 2.7ms preprocess, 3.4ms inference, 0.0ms postprocess per image at shape (1, 3, 224, 224)\n",
            "\n",
            "image 1/1 /content/drive/MyDrive/Thesis/ACRIMA_PRC_ROI/test/1/Im408_g_ACRIMA.jpg: 224x224 1 0.96, 0 0.04, 2.8ms\n",
            "Speed: 2.0ms preprocess, 2.8ms inference, 0.0ms postprocess per image at shape (1, 3, 224, 224)\n",
            "\n",
            "image 1/1 /content/drive/MyDrive/Thesis/ACRIMA_PRC_ROI/test/1/Im423_g_ACRIMA.jpg: 224x224 1 0.94, 0 0.06, 3.0ms\n",
            "Speed: 2.1ms preprocess, 3.0ms inference, 0.0ms postprocess per image at shape (1, 3, 224, 224)\n",
            "\n",
            "image 1/1 /content/drive/MyDrive/Thesis/ACRIMA_PRC_ROI/test/1/Im426_g_ACRIMA.jpg: 224x224 1 0.80, 0 0.20, 3.2ms\n",
            "Speed: 2.0ms preprocess, 3.2ms inference, 0.0ms postprocess per image at shape (1, 3, 224, 224)\n",
            "\n",
            "image 1/1 /content/drive/MyDrive/Thesis/ACRIMA_PRC_ROI/test/1/Im436_g_ACRIMA.jpg: 224x224 1 1.00, 0 0.00, 2.8ms\n",
            "Speed: 1.8ms preprocess, 2.8ms inference, 0.0ms postprocess per image at shape (1, 3, 224, 224)\n",
            "\n",
            "image 1/1 /content/drive/MyDrive/Thesis/ACRIMA_PRC_ROI/test/1/Im440_g_ACRIMA.jpg: 224x224 1 1.00, 0 0.00, 2.9ms\n",
            "Speed: 2.1ms preprocess, 2.9ms inference, 0.0ms postprocess per image at shape (1, 3, 224, 224)\n",
            "\n",
            "image 1/1 /content/drive/MyDrive/Thesis/ACRIMA_PRC_ROI/test/1/Im441_g_ACRIMA.jpg: 224x224 1 0.77, 0 0.23, 2.9ms\n",
            "Speed: 2.0ms preprocess, 2.9ms inference, 0.0ms postprocess per image at shape (1, 3, 224, 224)\n",
            "\n",
            "image 1/1 /content/drive/MyDrive/Thesis/ACRIMA_PRC_ROI/test/1/Im466_g_ACRIMA.jpg: 224x224 1 0.97, 0 0.03, 2.8ms\n",
            "Speed: 1.8ms preprocess, 2.8ms inference, 0.0ms postprocess per image at shape (1, 3, 224, 224)\n",
            "\n",
            "image 1/1 /content/drive/MyDrive/Thesis/ACRIMA_PRC_ROI/test/1/Im484_g_ACRIMA.jpg: 224x224 0 0.82, 1 0.18, 2.9ms\n",
            "Speed: 2.0ms preprocess, 2.9ms inference, 0.0ms postprocess per image at shape (1, 3, 224, 224)\n",
            "\n",
            "image 1/1 /content/drive/MyDrive/Thesis/ACRIMA_PRC_ROI/test/1/Im493_g_ACRIMA.jpg: 224x224 0 0.98, 1 0.02, 3.1ms\n",
            "Speed: 2.7ms preprocess, 3.1ms inference, 0.0ms postprocess per image at shape (1, 3, 224, 224)\n",
            "\n",
            "image 1/1 /content/drive/MyDrive/Thesis/ACRIMA_PRC_ROI/test/1/Im501_g_ACRIMA.jpg: 224x224 0 0.93, 1 0.07, 2.7ms\n",
            "Speed: 1.7ms preprocess, 2.7ms inference, 0.0ms postprocess per image at shape (1, 3, 224, 224)\n",
            "\n",
            "image 1/1 /content/drive/MyDrive/Thesis/ACRIMA_PRC_ROI/test/1/Im502_g_ACRIMA.jpg: 224x224 1 1.00, 0 0.00, 2.9ms\n",
            "Speed: 2.3ms preprocess, 2.9ms inference, 0.0ms postprocess per image at shape (1, 3, 224, 224)\n",
            "\n",
            "image 1/1 /content/drive/MyDrive/Thesis/ACRIMA_PRC_ROI/test/1/Im510_g_ACRIMA.jpg: 224x224 0 0.62, 1 0.38, 2.9ms\n",
            "Speed: 2.0ms preprocess, 2.9ms inference, 0.0ms postprocess per image at shape (1, 3, 224, 224)\n",
            "\n",
            "image 1/1 /content/drive/MyDrive/Thesis/ACRIMA_PRC_ROI/test/1/Im518_g_ACRIMA.jpg: 224x224 1 0.96, 0 0.04, 3.0ms\n",
            "Speed: 2.5ms preprocess, 3.0ms inference, 0.0ms postprocess per image at shape (1, 3, 224, 224)\n",
            "\n",
            "image 1/1 /content/drive/MyDrive/Thesis/ACRIMA_PRC_ROI/test/1/Im520_g_ACRIMA.jpg: 224x224 1 0.98, 0 0.02, 2.9ms\n",
            "Speed: 2.1ms preprocess, 2.9ms inference, 0.0ms postprocess per image at shape (1, 3, 224, 224)\n",
            "\n",
            "image 1/1 /content/drive/MyDrive/Thesis/ACRIMA_PRC_ROI/test/1/Im528_g_ACRIMA.jpg: 224x224 1 0.99, 0 0.01, 2.9ms\n",
            "Speed: 2.2ms preprocess, 2.9ms inference, 0.0ms postprocess per image at shape (1, 3, 224, 224)\n",
            "\n",
            "image 1/1 /content/drive/MyDrive/Thesis/ACRIMA_PRC_ROI/test/1/Im531_g_ACRIMA.jpg: 224x224 1 0.99, 0 0.01, 3.1ms\n",
            "Speed: 2.4ms preprocess, 3.1ms inference, 0.0ms postprocess per image at shape (1, 3, 224, 224)\n",
            "\n",
            "image 1/1 /content/drive/MyDrive/Thesis/ACRIMA_PRC_ROI/test/1/Im534_g_ACRIMA.jpg: 224x224 1 1.00, 0 0.00, 3.2ms\n",
            "Speed: 2.4ms preprocess, 3.2ms inference, 0.0ms postprocess per image at shape (1, 3, 224, 224)\n",
            "\n",
            "image 1/1 /content/drive/MyDrive/Thesis/ACRIMA_PRC_ROI/test/1/Im539_g_ACRIMA.jpg: 224x224 0 0.93, 1 0.07, 4.7ms\n",
            "Speed: 2.7ms preprocess, 4.7ms inference, 0.1ms postprocess per image at shape (1, 3, 224, 224)\n",
            "\n",
            "image 1/1 /content/drive/MyDrive/Thesis/ACRIMA_PRC_ROI/test/1/Im545_g_ACRIMA.jpg: 224x224 0 0.97, 1 0.03, 3.8ms\n",
            "Speed: 2.8ms preprocess, 3.8ms inference, 0.1ms postprocess per image at shape (1, 3, 224, 224)\n",
            "\n",
            "image 1/1 /content/drive/MyDrive/Thesis/ACRIMA_PRC_ROI/test/1/Im548_g_ACRIMA.jpg: 224x224 1 1.00, 0 0.00, 4.4ms\n",
            "Speed: 2.8ms preprocess, 4.4ms inference, 0.1ms postprocess per image at shape (1, 3, 224, 224)\n",
            "\n",
            "image 1/1 /content/drive/MyDrive/Thesis/ACRIMA_PRC_ROI/test/1/Im570_g_ACRIMA.jpg: 224x224 1 0.99, 0 0.01, 3.7ms\n",
            "Speed: 2.6ms preprocess, 3.7ms inference, 0.1ms postprocess per image at shape (1, 3, 224, 224)\n",
            "\n",
            "image 1/1 /content/drive/MyDrive/Thesis/ACRIMA_PRC_ROI/test/1/Im576_g_ACRIMA.jpg: 224x224 1 0.96, 0 0.04, 5.0ms\n",
            "Speed: 2.8ms preprocess, 5.0ms inference, 0.1ms postprocess per image at shape (1, 3, 224, 224)\n",
            "\n",
            "image 1/1 /content/drive/MyDrive/Thesis/ACRIMA_PRC_ROI/test/1/Im592_g_ACRIMA.jpg: 224x224 0 0.57, 1 0.43, 3.0ms\n",
            "Speed: 2.4ms preprocess, 3.0ms inference, 0.0ms postprocess per image at shape (1, 3, 224, 224)\n",
            "\n",
            "image 1/1 /content/drive/MyDrive/Thesis/ACRIMA_PRC_ROI/test/1/Im599_g_ACRIMA.jpg: 224x224 1 0.73, 0 0.27, 3.0ms\n",
            "Speed: 2.1ms preprocess, 3.0ms inference, 0.0ms postprocess per image at shape (1, 3, 224, 224)\n",
            "\n",
            "image 1/1 /content/drive/MyDrive/Thesis/ACRIMA_PRC_ROI/test/1/Im617_g_ACRIMA.jpg: 224x224 1 1.00, 0 0.00, 2.8ms\n",
            "Speed: 1.9ms preprocess, 2.8ms inference, 0.0ms postprocess per image at shape (1, 3, 224, 224)\n",
            "\n",
            "image 1/1 /content/drive/MyDrive/Thesis/ACRIMA_PRC_ROI/test/1/Im624_g_ACRIMA.jpg: 224x224 1 0.85, 0 0.15, 2.9ms\n",
            "Speed: 2.0ms preprocess, 2.9ms inference, 0.0ms postprocess per image at shape (1, 3, 224, 224)\n",
            "\n",
            "image 1/1 /content/drive/MyDrive/Thesis/ACRIMA_PRC_ROI/test/1/Im633_g_ACRIMA.jpg: 224x224 1 1.00, 0 0.00, 2.8ms\n",
            "Speed: 1.8ms preprocess, 2.8ms inference, 0.0ms postprocess per image at shape (1, 3, 224, 224)\n",
            "\n",
            "image 1/1 /content/drive/MyDrive/Thesis/ACRIMA_PRC_ROI/test/1/Im670_g_ACRIMA.jpg: 224x224 1 1.00, 0 0.00, 2.9ms\n",
            "Speed: 2.0ms preprocess, 2.9ms inference, 0.0ms postprocess per image at shape (1, 3, 224, 224)\n",
            "\n",
            "image 1/1 /content/drive/MyDrive/Thesis/ACRIMA_PRC_ROI/test/1/Im673_g_ACRIMA.jpg: 224x224 0 0.85, 1 0.15, 3.0ms\n",
            "Speed: 2.2ms preprocess, 3.0ms inference, 0.0ms postprocess per image at shape (1, 3, 224, 224)\n",
            "\n",
            "image 1/1 /content/drive/MyDrive/Thesis/ACRIMA_PRC_ROI/test/1/Im697_g_ACRIMA.jpg: 224x224 1 1.00, 0 0.00, 2.9ms\n",
            "Speed: 2.0ms preprocess, 2.9ms inference, 0.0ms postprocess per image at shape (1, 3, 224, 224)\n",
            "\n",
            "image 1/1 /content/drive/MyDrive/Thesis/ACRIMA_PRC_ROI/test/1/Im699_g_ACRIMA.jpg: 224x224 0 0.80, 1 0.20, 3.4ms\n",
            "Speed: 2.5ms preprocess, 3.4ms inference, 0.0ms postprocess per image at shape (1, 3, 224, 224)\n",
            "Accuracy:  0.6619718309859155\n",
            "TP:  34\n",
            "TN:  13\n",
            "FP:  13\n",
            "FN:  11\n",
            "AUC score: 0.7786324786324786\n",
            " \n",
            "Loading for:  ORIGA_PRC\n",
            "\n",
            "image 1/1 /content/drive/MyDrive/Thesis/ORIGA_PRC_ROI/test/0/001.jpg: 224x224 1 1.00, 0 0.00, 3.0ms\n",
            "Speed: 2.2ms preprocess, 3.0ms inference, 0.0ms postprocess per image at shape (1, 3, 224, 224)\n",
            "\n",
            "image 1/1 /content/drive/MyDrive/Thesis/ORIGA_PRC_ROI/test/0/012.jpg: 224x224 1 0.63, 0 0.37, 2.9ms\n",
            "Speed: 1.9ms preprocess, 2.9ms inference, 0.0ms postprocess per image at shape (1, 3, 224, 224)\n",
            "\n",
            "image 1/1 /content/drive/MyDrive/Thesis/ORIGA_PRC_ROI/test/0/014.jpg: 224x224 0 1.00, 1 0.00, 3.0ms\n",
            "Speed: 2.0ms preprocess, 3.0ms inference, 0.0ms postprocess per image at shape (1, 3, 224, 224)\n",
            "\n",
            "image 1/1 /content/drive/MyDrive/Thesis/ORIGA_PRC_ROI/test/0/026.jpg: 224x224 1 0.65, 0 0.35, 2.8ms\n",
            "Speed: 1.7ms preprocess, 2.8ms inference, 0.0ms postprocess per image at shape (1, 3, 224, 224)\n",
            "\n",
            "image 1/1 /content/drive/MyDrive/Thesis/ORIGA_PRC_ROI/test/0/031.jpg: 224x224 1 0.91, 0 0.09, 3.2ms\n",
            "Speed: 2.3ms preprocess, 3.2ms inference, 0.0ms postprocess per image at shape (1, 3, 224, 224)\n",
            "\n",
            "image 1/1 /content/drive/MyDrive/Thesis/ORIGA_PRC_ROI/test/0/009.jpg: 224x224 1 0.93, 0 0.07, 2.9ms\n",
            "Speed: 1.8ms preprocess, 2.9ms inference, 0.0ms postprocess per image at shape (1, 3, 224, 224)\n",
            "\n",
            "image 1/1 /content/drive/MyDrive/Thesis/ORIGA_PRC_ROI/test/0/011.jpg: 224x224 1 0.73, 0 0.27, 2.8ms\n",
            "Speed: 1.7ms preprocess, 2.8ms inference, 0.0ms postprocess per image at shape (1, 3, 224, 224)\n",
            "\n",
            "image 1/1 /content/drive/MyDrive/Thesis/ORIGA_PRC_ROI/test/0/048.jpg: 224x224 0 0.76, 1 0.24, 3.2ms\n",
            "Speed: 2.7ms preprocess, 3.2ms inference, 0.0ms postprocess per image at shape (1, 3, 224, 224)\n",
            "\n",
            "image 1/1 /content/drive/MyDrive/Thesis/ORIGA_PRC_ROI/test/0/083.jpg: 224x224 1 0.97, 0 0.03, 2.9ms\n",
            "Speed: 1.8ms preprocess, 2.9ms inference, 0.0ms postprocess per image at shape (1, 3, 224, 224)\n",
            "\n",
            "image 1/1 /content/drive/MyDrive/Thesis/ORIGA_PRC_ROI/test/0/105.jpg: 224x224 1 0.99, 0 0.01, 2.8ms\n",
            "Speed: 2.2ms preprocess, 2.8ms inference, 0.0ms postprocess per image at shape (1, 3, 224, 224)\n",
            "\n",
            "image 1/1 /content/drive/MyDrive/Thesis/ORIGA_PRC_ROI/test/0/085.jpg: 224x224 0 0.97, 1 0.03, 2.9ms\n",
            "Speed: 2.0ms preprocess, 2.9ms inference, 0.0ms postprocess per image at shape (1, 3, 224, 224)\n",
            "\n",
            "image 1/1 /content/drive/MyDrive/Thesis/ORIGA_PRC_ROI/test/0/096.jpg: 224x224 0 0.93, 1 0.07, 3.0ms\n",
            "Speed: 2.5ms preprocess, 3.0ms inference, 0.0ms postprocess per image at shape (1, 3, 224, 224)\n",
            "\n",
            "image 1/1 /content/drive/MyDrive/Thesis/ORIGA_PRC_ROI/test/0/091.jpg: 224x224 1 0.66, 0 0.34, 2.9ms\n",
            "Speed: 1.9ms preprocess, 2.9ms inference, 0.0ms postprocess per image at shape (1, 3, 224, 224)\n",
            "\n",
            "image 1/1 /content/drive/MyDrive/Thesis/ORIGA_PRC_ROI/test/0/098.jpg: 224x224 1 0.99, 0 0.01, 2.9ms\n",
            "Speed: 2.0ms preprocess, 2.9ms inference, 0.0ms postprocess per image at shape (1, 3, 224, 224)\n",
            "\n",
            "image 1/1 /content/drive/MyDrive/Thesis/ORIGA_PRC_ROI/test/0/119.jpg: 224x224 1 1.00, 0 0.00, 2.8ms\n",
            "Speed: 1.8ms preprocess, 2.8ms inference, 0.0ms postprocess per image at shape (1, 3, 224, 224)\n",
            "\n",
            "image 1/1 /content/drive/MyDrive/Thesis/ORIGA_PRC_ROI/test/0/121.jpg: 224x224 0 0.95, 1 0.05, 3.1ms\n",
            "Speed: 2.0ms preprocess, 3.1ms inference, 0.0ms postprocess per image at shape (1, 3, 224, 224)\n",
            "\n",
            "image 1/1 /content/drive/MyDrive/Thesis/ORIGA_PRC_ROI/test/0/118.jpg: 224x224 1 0.91, 0 0.09, 3.9ms\n",
            "Speed: 2.7ms preprocess, 3.9ms inference, 0.0ms postprocess per image at shape (1, 3, 224, 224)\n",
            "\n",
            "image 1/1 /content/drive/MyDrive/Thesis/ORIGA_PRC_ROI/test/0/114.jpg: 224x224 1 0.61, 0 0.39, 4.8ms\n",
            "Speed: 2.5ms preprocess, 4.8ms inference, 0.1ms postprocess per image at shape (1, 3, 224, 224)\n",
            "\n",
            "image 1/1 /content/drive/MyDrive/Thesis/ORIGA_PRC_ROI/test/0/139.jpg: 224x224 0 0.81, 1 0.19, 3.9ms\n",
            "Speed: 2.6ms preprocess, 3.9ms inference, 0.1ms postprocess per image at shape (1, 3, 224, 224)\n",
            "\n",
            "image 1/1 /content/drive/MyDrive/Thesis/ORIGA_PRC_ROI/test/0/136.jpg: 224x224 1 0.99, 0 0.01, 4.2ms\n",
            "Speed: 2.5ms preprocess, 4.2ms inference, 0.1ms postprocess per image at shape (1, 3, 224, 224)\n",
            "\n",
            "image 1/1 /content/drive/MyDrive/Thesis/ORIGA_PRC_ROI/test/0/154.jpg: 224x224 0 0.79, 1 0.21, 4.8ms\n",
            "Speed: 2.7ms preprocess, 4.8ms inference, 0.1ms postprocess per image at shape (1, 3, 224, 224)\n",
            "\n",
            "image 1/1 /content/drive/MyDrive/Thesis/ORIGA_PRC_ROI/test/0/170.jpg: 224x224 1 0.53, 0 0.47, 3.0ms\n",
            "Speed: 1.9ms preprocess, 3.0ms inference, 0.0ms postprocess per image at shape (1, 3, 224, 224)\n",
            "\n",
            "image 1/1 /content/drive/MyDrive/Thesis/ORIGA_PRC_ROI/test/0/230.jpg: 224x224 1 1.00, 0 0.00, 2.8ms\n",
            "Speed: 1.9ms preprocess, 2.8ms inference, 0.0ms postprocess per image at shape (1, 3, 224, 224)\n",
            "\n",
            "image 1/1 /content/drive/MyDrive/Thesis/ORIGA_PRC_ROI/test/0/217.jpg: 224x224 1 0.99, 0 0.01, 2.9ms\n",
            "Speed: 1.8ms preprocess, 2.9ms inference, 0.0ms postprocess per image at shape (1, 3, 224, 224)\n",
            "\n",
            "image 1/1 /content/drive/MyDrive/Thesis/ORIGA_PRC_ROI/test/0/254.jpg: 224x224 1 1.00, 0 0.00, 2.9ms\n",
            "Speed: 1.9ms preprocess, 2.9ms inference, 0.1ms postprocess per image at shape (1, 3, 224, 224)\n",
            "\n",
            "image 1/1 /content/drive/MyDrive/Thesis/ORIGA_PRC_ROI/test/0/307.jpg: 224x224 1 0.78, 0 0.22, 2.9ms\n",
            "Speed: 2.0ms preprocess, 2.9ms inference, 0.0ms postprocess per image at shape (1, 3, 224, 224)\n",
            "\n",
            "image 1/1 /content/drive/MyDrive/Thesis/ORIGA_PRC_ROI/test/0/296.jpg: 224x224 0 0.89, 1 0.11, 4.0ms\n",
            "Speed: 2.2ms preprocess, 4.0ms inference, 0.1ms postprocess per image at shape (1, 3, 224, 224)\n",
            "\n",
            "image 1/1 /content/drive/MyDrive/Thesis/ORIGA_PRC_ROI/test/0/308.jpg: 224x224 1 0.71, 0 0.29, 3.0ms\n",
            "Speed: 2.1ms preprocess, 3.0ms inference, 0.0ms postprocess per image at shape (1, 3, 224, 224)\n",
            "\n",
            "image 1/1 /content/drive/MyDrive/Thesis/ORIGA_PRC_ROI/test/0/324.jpg: 224x224 0 0.95, 1 0.05, 2.9ms\n",
            "Speed: 2.0ms preprocess, 2.9ms inference, 0.0ms postprocess per image at shape (1, 3, 224, 224)\n",
            "\n",
            "image 1/1 /content/drive/MyDrive/Thesis/ORIGA_PRC_ROI/test/0/325.jpg: 224x224 1 0.63, 0 0.37, 3.1ms\n",
            "Speed: 2.0ms preprocess, 3.1ms inference, 0.0ms postprocess per image at shape (1, 3, 224, 224)\n",
            "\n",
            "image 1/1 /content/drive/MyDrive/Thesis/ORIGA_PRC_ROI/test/0/372.jpg: 224x224 0 0.69, 1 0.31, 3.7ms\n",
            "Speed: 2.6ms preprocess, 3.7ms inference, 0.1ms postprocess per image at shape (1, 3, 224, 224)\n",
            "\n",
            "image 1/1 /content/drive/MyDrive/Thesis/ORIGA_PRC_ROI/test/0/351.jpg: 224x224 0 0.90, 1 0.10, 2.9ms\n",
            "Speed: 1.9ms preprocess, 2.9ms inference, 0.0ms postprocess per image at shape (1, 3, 224, 224)\n",
            "\n",
            "image 1/1 /content/drive/MyDrive/Thesis/ORIGA_PRC_ROI/test/0/373.jpg: 224x224 1 0.98, 0 0.02, 2.8ms\n",
            "Speed: 1.8ms preprocess, 2.8ms inference, 0.0ms postprocess per image at shape (1, 3, 224, 224)\n",
            "\n",
            "image 1/1 /content/drive/MyDrive/Thesis/ORIGA_PRC_ROI/test/0/367.jpg: 224x224 1 1.00, 0 0.00, 2.8ms\n",
            "Speed: 1.8ms preprocess, 2.8ms inference, 0.0ms postprocess per image at shape (1, 3, 224, 224)\n",
            "\n",
            "image 1/1 /content/drive/MyDrive/Thesis/ORIGA_PRC_ROI/test/0/408.jpg: 224x224 0 1.00, 1 0.00, 2.9ms\n",
            "Speed: 2.0ms preprocess, 2.9ms inference, 0.0ms postprocess per image at shape (1, 3, 224, 224)\n",
            "\n",
            "image 1/1 /content/drive/MyDrive/Thesis/ORIGA_PRC_ROI/test/0/472.jpg: 224x224 0 0.84, 1 0.16, 2.8ms\n",
            "Speed: 1.8ms preprocess, 2.8ms inference, 0.0ms postprocess per image at shape (1, 3, 224, 224)\n",
            "\n",
            "image 1/1 /content/drive/MyDrive/Thesis/ORIGA_PRC_ROI/test/0/504.jpg: 224x224 1 0.71, 0 0.29, 2.9ms\n",
            "Speed: 1.9ms preprocess, 2.9ms inference, 0.0ms postprocess per image at shape (1, 3, 224, 224)\n",
            "\n",
            "image 1/1 /content/drive/MyDrive/Thesis/ORIGA_PRC_ROI/test/0/500.jpg: 224x224 1 0.94, 0 0.06, 3.0ms\n",
            "Speed: 2.1ms preprocess, 3.0ms inference, 0.0ms postprocess per image at shape (1, 3, 224, 224)\n",
            "\n",
            "image 1/1 /content/drive/MyDrive/Thesis/ORIGA_PRC_ROI/test/0/513.jpg: 224x224 1 0.86, 0 0.14, 2.9ms\n",
            "Speed: 2.0ms preprocess, 2.9ms inference, 0.0ms postprocess per image at shape (1, 3, 224, 224)\n",
            "\n",
            "image 1/1 /content/drive/MyDrive/Thesis/ORIGA_PRC_ROI/test/0/526.jpg: 224x224 1 0.96, 0 0.04, 4.1ms\n",
            "Speed: 2.2ms preprocess, 4.1ms inference, 0.0ms postprocess per image at shape (1, 3, 224, 224)\n",
            "\n",
            "image 1/1 /content/drive/MyDrive/Thesis/ORIGA_PRC_ROI/test/0/566.jpg: 224x224 1 1.00, 0 0.00, 2.9ms\n",
            "Speed: 2.0ms preprocess, 2.9ms inference, 0.0ms postprocess per image at shape (1, 3, 224, 224)\n",
            "\n",
            "image 1/1 /content/drive/MyDrive/Thesis/ORIGA_PRC_ROI/test/0/563.jpg: 224x224 0 1.00, 1 0.00, 2.8ms\n",
            "Speed: 1.7ms preprocess, 2.8ms inference, 0.0ms postprocess per image at shape (1, 3, 224, 224)\n",
            "\n",
            "image 1/1 /content/drive/MyDrive/Thesis/ORIGA_PRC_ROI/test/0/562.jpg: 224x224 1 0.91, 0 0.09, 2.9ms\n",
            "Speed: 2.0ms preprocess, 2.9ms inference, 0.0ms postprocess per image at shape (1, 3, 224, 224)\n",
            "\n",
            "image 1/1 /content/drive/MyDrive/Thesis/ORIGA_PRC_ROI/test/0/564.jpg: 224x224 1 0.92, 0 0.08, 3.1ms\n",
            "Speed: 2.4ms preprocess, 3.1ms inference, 0.0ms postprocess per image at shape (1, 3, 224, 224)\n",
            "\n",
            "image 1/1 /content/drive/MyDrive/Thesis/ORIGA_PRC_ROI/test/0/553.jpg: 224x224 0 0.98, 1 0.02, 3.3ms\n",
            "Speed: 2.1ms preprocess, 3.3ms inference, 0.0ms postprocess per image at shape (1, 3, 224, 224)\n",
            "\n",
            "image 1/1 /content/drive/MyDrive/Thesis/ORIGA_PRC_ROI/test/0/611.jpg: 224x224 1 0.85, 0 0.15, 3.1ms\n",
            "Speed: 2.2ms preprocess, 3.1ms inference, 0.0ms postprocess per image at shape (1, 3, 224, 224)\n",
            "\n",
            "image 1/1 /content/drive/MyDrive/Thesis/ORIGA_PRC_ROI/test/0/599.jpg: 224x224 1 0.87, 0 0.13, 2.9ms\n",
            "Speed: 2.1ms preprocess, 2.9ms inference, 0.0ms postprocess per image at shape (1, 3, 224, 224)\n",
            "\n",
            "image 1/1 /content/drive/MyDrive/Thesis/ORIGA_PRC_ROI/test/0/639.jpg: 224x224 0 0.97, 1 0.03, 3.1ms\n",
            "Speed: 2.4ms preprocess, 3.1ms inference, 0.0ms postprocess per image at shape (1, 3, 224, 224)\n",
            "\n",
            "image 1/1 /content/drive/MyDrive/Thesis/ORIGA_PRC_ROI/test/0/620.jpg: 224x224 1 1.00, 0 0.00, 2.9ms\n",
            "Speed: 2.0ms preprocess, 2.9ms inference, 0.0ms postprocess per image at shape (1, 3, 224, 224)\n",
            "\n",
            "image 1/1 /content/drive/MyDrive/Thesis/ORIGA_PRC_ROI/test/0/633.jpg: 224x224 1 1.00, 0 0.00, 2.8ms\n",
            "Speed: 1.7ms preprocess, 2.8ms inference, 0.0ms postprocess per image at shape (1, 3, 224, 224)\n",
            "\n",
            "image 1/1 /content/drive/MyDrive/Thesis/ORIGA_PRC_ROI/test/1/093.jpg: 224x224 1 1.00, 0 0.00, 3.9ms\n",
            "Speed: 2.6ms preprocess, 3.9ms inference, 0.1ms postprocess per image at shape (1, 3, 224, 224)\n",
            "\n",
            "image 1/1 /content/drive/MyDrive/Thesis/ORIGA_PRC_ROI/test/1/087.jpg: 224x224 1 0.66, 0 0.34, 4.0ms\n",
            "Speed: 2.7ms preprocess, 4.0ms inference, 0.1ms postprocess per image at shape (1, 3, 224, 224)\n",
            "\n",
            "image 1/1 /content/drive/MyDrive/Thesis/ORIGA_PRC_ROI/test/1/270.jpg: 224x224 0 0.95, 1 0.05, 3.8ms\n",
            "Speed: 2.5ms preprocess, 3.8ms inference, 0.1ms postprocess per image at shape (1, 3, 224, 224)\n",
            "\n",
            "image 1/1 /content/drive/MyDrive/Thesis/ORIGA_PRC_ROI/test/1/301.jpg: 224x224 1 1.00, 0 0.00, 5.9ms\n",
            "Speed: 2.8ms preprocess, 5.9ms inference, 0.1ms postprocess per image at shape (1, 3, 224, 224)\n",
            "\n",
            "image 1/1 /content/drive/MyDrive/Thesis/ORIGA_PRC_ROI/test/1/340.jpg: 224x224 1 0.99, 0 0.01, 8.0ms\n",
            "Speed: 2.9ms preprocess, 8.0ms inference, 0.1ms postprocess per image at shape (1, 3, 224, 224)\n",
            "\n",
            "image 1/1 /content/drive/MyDrive/Thesis/ORIGA_PRC_ROI/test/1/402.jpg: 224x224 1 0.90, 0 0.10, 4.6ms\n",
            "Speed: 2.3ms preprocess, 4.6ms inference, 0.1ms postprocess per image at shape (1, 3, 224, 224)\n",
            "\n",
            "image 1/1 /content/drive/MyDrive/Thesis/ORIGA_PRC_ROI/test/1/426.jpg: 224x224 1 1.00, 0 0.00, 3.0ms\n",
            "Speed: 2.1ms preprocess, 3.0ms inference, 0.0ms postprocess per image at shape (1, 3, 224, 224)\n",
            "\n",
            "image 1/1 /content/drive/MyDrive/Thesis/ORIGA_PRC_ROI/test/1/507.jpg: 224x224 1 1.00, 0 0.00, 2.7ms\n",
            "Speed: 2.0ms preprocess, 2.7ms inference, 0.0ms postprocess per image at shape (1, 3, 224, 224)\n",
            "\n",
            "image 1/1 /content/drive/MyDrive/Thesis/ORIGA_PRC_ROI/test/1/516.jpg: 224x224 1 1.00, 0 0.00, 2.8ms\n",
            "Speed: 1.7ms preprocess, 2.8ms inference, 0.0ms postprocess per image at shape (1, 3, 224, 224)\n",
            "\n",
            "image 1/1 /content/drive/MyDrive/Thesis/ORIGA_PRC_ROI/test/1/528.jpg: 224x224 1 0.99, 0 0.01, 3.0ms\n",
            "Speed: 2.3ms preprocess, 3.0ms inference, 0.0ms postprocess per image at shape (1, 3, 224, 224)\n",
            "\n",
            "image 1/1 /content/drive/MyDrive/Thesis/ORIGA_PRC_ROI/test/1/580.jpg: 224x224 0 0.99, 1 0.01, 3.1ms\n",
            "Speed: 2.5ms preprocess, 3.1ms inference, 0.0ms postprocess per image at shape (1, 3, 224, 224)\n",
            "\n",
            "image 1/1 /content/drive/MyDrive/Thesis/ORIGA_PRC_ROI/test/1/608.jpg: 224x224 0 0.76, 1 0.24, 3.7ms\n",
            "Speed: 1.7ms preprocess, 3.7ms inference, 0.0ms postprocess per image at shape (1, 3, 224, 224)\n",
            "\n",
            "image 1/1 /content/drive/MyDrive/Thesis/ORIGA_PRC_ROI/test/1/584.jpg: 224x224 1 1.00, 0 0.00, 3.9ms\n",
            "Speed: 2.1ms preprocess, 3.9ms inference, 0.1ms postprocess per image at shape (1, 3, 224, 224)\n",
            "\n",
            "image 1/1 /content/drive/MyDrive/Thesis/ORIGA_PRC_ROI/test/1/640.jpg: 224x224 1 1.00, 0 0.00, 2.8ms\n",
            "Speed: 1.8ms preprocess, 2.8ms inference, 0.0ms postprocess per image at shape (1, 3, 224, 224)\n",
            "\n",
            "image 1/1 /content/drive/MyDrive/Thesis/ORIGA_PRC_ROI/test/1/636.jpg: 224x224 1 0.85, 0 0.15, 2.9ms\n",
            "Speed: 2.1ms preprocess, 2.9ms inference, 0.0ms postprocess per image at shape (1, 3, 224, 224)\n",
            "Accuracy:  0.4307692307692308\n",
            "TP:  12\n",
            "TN:  16\n",
            "FP:  34\n",
            "FN:  3\n",
            "AUC score: 0.6586666666666667\n",
            " \n",
            "Loading for:  REFUGE_PRC\n",
            "\n",
            "image 1/1 /content/drive/MyDrive/Thesis/REFUGE_PRC_ROI/test/0/n0009.jpg: 224x224 1 0.80, 0 0.20, 3.2ms\n",
            "Speed: 2.6ms preprocess, 3.2ms inference, 0.0ms postprocess per image at shape (1, 3, 224, 224)\n",
            "\n",
            "image 1/1 /content/drive/MyDrive/Thesis/REFUGE_PRC_ROI/test/0/n0032.jpg: 224x224 1 0.84, 0 0.16, 2.9ms\n",
            "Speed: 1.9ms preprocess, 2.9ms inference, 0.0ms postprocess per image at shape (1, 3, 224, 224)\n",
            "\n",
            "image 1/1 /content/drive/MyDrive/Thesis/REFUGE_PRC_ROI/test/0/n0069.jpg: 224x224 0 1.00, 1 0.00, 3.0ms\n",
            "Speed: 2.2ms preprocess, 3.0ms inference, 0.0ms postprocess per image at shape (1, 3, 224, 224)\n",
            "\n",
            "image 1/1 /content/drive/MyDrive/Thesis/REFUGE_PRC_ROI/test/0/n0066.jpg: 224x224 1 0.88, 0 0.12, 3.0ms\n",
            "Speed: 1.9ms preprocess, 3.0ms inference, 0.1ms postprocess per image at shape (1, 3, 224, 224)\n",
            "\n",
            "image 1/1 /content/drive/MyDrive/Thesis/REFUGE_PRC_ROI/test/0/n0074.jpg: 224x224 0 0.88, 1 0.12, 3.5ms\n",
            "Speed: 2.2ms preprocess, 3.5ms inference, 0.0ms postprocess per image at shape (1, 3, 224, 224)\n",
            "\n",
            "image 1/1 /content/drive/MyDrive/Thesis/REFUGE_PRC_ROI/test/0/n0086.jpg: 224x224 1 0.99, 0 0.01, 2.8ms\n",
            "Speed: 1.8ms preprocess, 2.8ms inference, 0.0ms postprocess per image at shape (1, 3, 224, 224)\n",
            "\n",
            "image 1/1 /content/drive/MyDrive/Thesis/REFUGE_PRC_ROI/test/0/n0094.jpg: 224x224 0 0.98, 1 0.02, 3.0ms\n",
            "Speed: 1.9ms preprocess, 3.0ms inference, 0.0ms postprocess per image at shape (1, 3, 224, 224)\n",
            "\n",
            "image 1/1 /content/drive/MyDrive/Thesis/REFUGE_PRC_ROI/test/0/n0088.jpg: 224x224 0 0.96, 1 0.04, 2.9ms\n",
            "Speed: 1.9ms preprocess, 2.9ms inference, 0.0ms postprocess per image at shape (1, 3, 224, 224)\n",
            "\n",
            "image 1/1 /content/drive/MyDrive/Thesis/REFUGE_PRC_ROI/test/0/n0117.jpg: 224x224 1 1.00, 0 0.00, 2.8ms\n",
            "Speed: 2.0ms preprocess, 2.8ms inference, 0.0ms postprocess per image at shape (1, 3, 224, 224)\n",
            "\n",
            "image 1/1 /content/drive/MyDrive/Thesis/REFUGE_PRC_ROI/test/0/n0116.jpg: 224x224 1 0.63, 0 0.37, 2.9ms\n",
            "Speed: 2.1ms preprocess, 2.9ms inference, 0.0ms postprocess per image at shape (1, 3, 224, 224)\n",
            "\n",
            "image 1/1 /content/drive/MyDrive/Thesis/REFUGE_PRC_ROI/test/0/n0137.jpg: 224x224 0 0.75, 1 0.25, 3.1ms\n",
            "Speed: 2.6ms preprocess, 3.1ms inference, 0.0ms postprocess per image at shape (1, 3, 224, 224)\n",
            "\n",
            "image 1/1 /content/drive/MyDrive/Thesis/REFUGE_PRC_ROI/test/0/n0155.jpg: 224x224 0 1.00, 1 0.00, 2.8ms\n",
            "Speed: 1.8ms preprocess, 2.8ms inference, 0.0ms postprocess per image at shape (1, 3, 224, 224)\n",
            "\n",
            "image 1/1 /content/drive/MyDrive/Thesis/REFUGE_PRC_ROI/test/0/n0172.jpg: 224x224 1 0.63, 0 0.37, 3.2ms\n",
            "Speed: 2.3ms preprocess, 3.2ms inference, 0.0ms postprocess per image at shape (1, 3, 224, 224)\n",
            "\n",
            "image 1/1 /content/drive/MyDrive/Thesis/REFUGE_PRC_ROI/test/0/n0168.jpg: 224x224 0 0.93, 1 0.07, 3.1ms\n",
            "Speed: 2.6ms preprocess, 3.1ms inference, 0.0ms postprocess per image at shape (1, 3, 224, 224)\n",
            "\n",
            "image 1/1 /content/drive/MyDrive/Thesis/REFUGE_PRC_ROI/test/0/n0187.jpg: 224x224 0 0.57, 1 0.43, 3.1ms\n",
            "Speed: 2.2ms preprocess, 3.1ms inference, 0.0ms postprocess per image at shape (1, 3, 224, 224)\n",
            "\n",
            "image 1/1 /content/drive/MyDrive/Thesis/REFUGE_PRC_ROI/test/0/n0197.jpg: 224x224 0 0.80, 1 0.20, 3.5ms\n",
            "Speed: 2.7ms preprocess, 3.5ms inference, 0.0ms postprocess per image at shape (1, 3, 224, 224)\n",
            "\n",
            "image 1/1 /content/drive/MyDrive/Thesis/REFUGE_PRC_ROI/test/0/n0196.jpg: 224x224 0 0.62, 1 0.38, 3.0ms\n",
            "Speed: 2.2ms preprocess, 3.0ms inference, 0.0ms postprocess per image at shape (1, 3, 224, 224)\n",
            "\n",
            "image 1/1 /content/drive/MyDrive/Thesis/REFUGE_PRC_ROI/test/0/n0223.jpg: 224x224 0 0.86, 1 0.14, 4.6ms\n",
            "Speed: 2.6ms preprocess, 4.6ms inference, 0.1ms postprocess per image at shape (1, 3, 224, 224)\n",
            "\n",
            "image 1/1 /content/drive/MyDrive/Thesis/REFUGE_PRC_ROI/test/0/n0239.jpg: 224x224 0 0.88, 1 0.12, 4.1ms\n",
            "Speed: 3.0ms preprocess, 4.1ms inference, 0.1ms postprocess per image at shape (1, 3, 224, 224)\n",
            "\n",
            "image 1/1 /content/drive/MyDrive/Thesis/REFUGE_PRC_ROI/test/0/n0248.jpg: 224x224 1 0.98, 0 0.02, 3.9ms\n",
            "Speed: 2.5ms preprocess, 3.9ms inference, 0.1ms postprocess per image at shape (1, 3, 224, 224)\n",
            "\n",
            "image 1/1 /content/drive/MyDrive/Thesis/REFUGE_PRC_ROI/test/0/n0251.jpg: 224x224 1 0.73, 0 0.27, 4.9ms\n",
            "Speed: 2.7ms preprocess, 4.9ms inference, 0.1ms postprocess per image at shape (1, 3, 224, 224)\n",
            "\n",
            "image 1/1 /content/drive/MyDrive/Thesis/REFUGE_PRC_ROI/test/0/n0279.jpg: 224x224 1 1.00, 0 0.00, 20.5ms\n",
            "Speed: 15.9ms preprocess, 20.5ms inference, 0.1ms postprocess per image at shape (1, 3, 224, 224)\n",
            "\n",
            "image 1/1 /content/drive/MyDrive/Thesis/REFUGE_PRC_ROI/test/0/n0275.jpg: 224x224 0 0.76, 1 0.24, 3.0ms\n",
            "Speed: 2.3ms preprocess, 3.0ms inference, 0.0ms postprocess per image at shape (1, 3, 224, 224)\n",
            "\n",
            "image 1/1 /content/drive/MyDrive/Thesis/REFUGE_PRC_ROI/test/0/n0288.jpg: 224x224 0 0.94, 1 0.06, 2.9ms\n",
            "Speed: 2.0ms preprocess, 2.9ms inference, 0.0ms postprocess per image at shape (1, 3, 224, 224)\n",
            "\n",
            "image 1/1 /content/drive/MyDrive/Thesis/REFUGE_PRC_ROI/test/0/n0292.jpg: 224x224 0 0.81, 1 0.19, 3.0ms\n",
            "Speed: 2.2ms preprocess, 3.0ms inference, 0.0ms postprocess per image at shape (1, 3, 224, 224)\n",
            "\n",
            "image 1/1 /content/drive/MyDrive/Thesis/REFUGE_PRC_ROI/test/0/n0310.jpg: 224x224 0 0.78, 1 0.22, 3.2ms\n",
            "Speed: 2.5ms preprocess, 3.2ms inference, 0.0ms postprocess per image at shape (1, 3, 224, 224)\n",
            "\n",
            "image 1/1 /content/drive/MyDrive/Thesis/REFUGE_PRC_ROI/test/0/n0326.jpg: 224x224 0 0.99, 1 0.01, 3.0ms\n",
            "Speed: 2.1ms preprocess, 3.0ms inference, 0.0ms postprocess per image at shape (1, 3, 224, 224)\n",
            "\n",
            "image 1/1 /content/drive/MyDrive/Thesis/REFUGE_PRC_ROI/test/0/n0337.jpg: 224x224 0 0.90, 1 0.10, 2.8ms\n",
            "Speed: 1.9ms preprocess, 2.8ms inference, 0.0ms postprocess per image at shape (1, 3, 224, 224)\n",
            "\n",
            "image 1/1 /content/drive/MyDrive/Thesis/REFUGE_PRC_ROI/test/0/n0348.jpg: 224x224 1 1.00, 0 0.00, 3.1ms\n",
            "Speed: 2.9ms preprocess, 3.1ms inference, 0.0ms postprocess per image at shape (1, 3, 224, 224)\n",
            "\n",
            "image 1/1 /content/drive/MyDrive/Thesis/REFUGE_PRC_ROI/test/0/n0355.jpg: 224x224 1 1.00, 0 0.00, 2.9ms\n",
            "Speed: 1.9ms preprocess, 2.9ms inference, 0.0ms postprocess per image at shape (1, 3, 224, 224)\n",
            "\n",
            "image 1/1 /content/drive/MyDrive/Thesis/REFUGE_PRC_ROI/test/0/V0011.jpg: 224x224 1 0.73, 0 0.27, 2.9ms\n",
            "Speed: 2.1ms preprocess, 2.9ms inference, 0.0ms postprocess per image at shape (1, 3, 224, 224)\n",
            "\n",
            "image 1/1 /content/drive/MyDrive/Thesis/REFUGE_PRC_ROI/test/0/V0036.jpg: 224x224 0 0.88, 1 0.12, 3.1ms\n",
            "Speed: 2.3ms preprocess, 3.1ms inference, 0.0ms postprocess per image at shape (1, 3, 224, 224)\n",
            "\n",
            "image 1/1 /content/drive/MyDrive/Thesis/REFUGE_PRC_ROI/test/0/V0016.jpg: 224x224 0 0.92, 1 0.08, 2.9ms\n",
            "Speed: 1.9ms preprocess, 2.9ms inference, 0.0ms postprocess per image at shape (1, 3, 224, 224)\n",
            "\n",
            "image 1/1 /content/drive/MyDrive/Thesis/REFUGE_PRC_ROI/test/0/V0042.jpg: 224x224 0 1.00, 1 0.00, 2.7ms\n",
            "Speed: 1.7ms preprocess, 2.7ms inference, 0.1ms postprocess per image at shape (1, 3, 224, 224)\n",
            "\n",
            "image 1/1 /content/drive/MyDrive/Thesis/REFUGE_PRC_ROI/test/0/V0037.jpg: 224x224 1 0.99, 0 0.01, 2.8ms\n",
            "Speed: 1.9ms preprocess, 2.8ms inference, 0.0ms postprocess per image at shape (1, 3, 224, 224)\n",
            "\n",
            "image 1/1 /content/drive/MyDrive/Thesis/REFUGE_PRC_ROI/test/0/V0043.jpg: 224x224 0 0.85, 1 0.15, 2.9ms\n",
            "Speed: 2.0ms preprocess, 2.9ms inference, 0.0ms postprocess per image at shape (1, 3, 224, 224)\n",
            "\n",
            "image 1/1 /content/drive/MyDrive/Thesis/REFUGE_PRC_ROI/test/0/V0067.jpg: 224x224 0 0.96, 1 0.04, 3.0ms\n",
            "Speed: 2.2ms preprocess, 3.0ms inference, 0.0ms postprocess per image at shape (1, 3, 224, 224)\n",
            "\n",
            "image 1/1 /content/drive/MyDrive/Thesis/REFUGE_PRC_ROI/test/0/V0061.jpg: 224x224 0 0.98, 1 0.02, 2.9ms\n",
            "Speed: 1.9ms preprocess, 2.9ms inference, 0.0ms postprocess per image at shape (1, 3, 224, 224)\n",
            "\n",
            "image 1/1 /content/drive/MyDrive/Thesis/REFUGE_PRC_ROI/test/0/V0082.jpg: 224x224 0 0.88, 1 0.12, 2.9ms\n",
            "Speed: 2.0ms preprocess, 2.9ms inference, 0.0ms postprocess per image at shape (1, 3, 224, 224)\n",
            "\n",
            "image 1/1 /content/drive/MyDrive/Thesis/REFUGE_PRC_ROI/test/0/V0102.jpg: 224x224 0 0.94, 1 0.06, 2.8ms\n",
            "Speed: 1.8ms preprocess, 2.8ms inference, 0.0ms postprocess per image at shape (1, 3, 224, 224)\n",
            "\n",
            "image 1/1 /content/drive/MyDrive/Thesis/REFUGE_PRC_ROI/test/0/V0126.jpg: 224x224 1 0.82, 0 0.18, 2.8ms\n",
            "Speed: 1.8ms preprocess, 2.8ms inference, 0.0ms postprocess per image at shape (1, 3, 224, 224)\n",
            "\n",
            "image 1/1 /content/drive/MyDrive/Thesis/REFUGE_PRC_ROI/test/0/V0142.jpg: 224x224 1 0.85, 0 0.15, 2.8ms\n",
            "Speed: 1.9ms preprocess, 2.8ms inference, 0.0ms postprocess per image at shape (1, 3, 224, 224)\n",
            "\n",
            "image 1/1 /content/drive/MyDrive/Thesis/REFUGE_PRC_ROI/test/0/V0131.jpg: 224x224 1 0.52, 0 0.48, 2.9ms\n",
            "Speed: 2.0ms preprocess, 2.9ms inference, 0.0ms postprocess per image at shape (1, 3, 224, 224)\n",
            "\n",
            "image 1/1 /content/drive/MyDrive/Thesis/REFUGE_PRC_ROI/test/0/V0135.jpg: 224x224 1 0.87, 0 0.13, 3.0ms\n",
            "Speed: 1.8ms preprocess, 3.0ms inference, 0.0ms postprocess per image at shape (1, 3, 224, 224)\n",
            "\n",
            "image 1/1 /content/drive/MyDrive/Thesis/REFUGE_PRC_ROI/test/0/V0144.jpg: 224x224 1 0.51, 0 0.49, 3.0ms\n",
            "Speed: 2.5ms preprocess, 3.0ms inference, 0.0ms postprocess per image at shape (1, 3, 224, 224)\n",
            "\n",
            "image 1/1 /content/drive/MyDrive/Thesis/REFUGE_PRC_ROI/test/0/V0161.jpg: 224x224 0 0.80, 1 0.20, 2.8ms\n",
            "Speed: 1.7ms preprocess, 2.8ms inference, 0.0ms postprocess per image at shape (1, 3, 224, 224)\n",
            "\n",
            "image 1/1 /content/drive/MyDrive/Thesis/REFUGE_PRC_ROI/test/0/V0150.jpg: 224x224 0 0.82, 1 0.18, 4.3ms\n",
            "Speed: 1.8ms preprocess, 4.3ms inference, 0.0ms postprocess per image at shape (1, 3, 224, 224)\n",
            "\n",
            "image 1/1 /content/drive/MyDrive/Thesis/REFUGE_PRC_ROI/test/0/V0156.jpg: 224x224 0 0.99, 1 0.01, 2.9ms\n",
            "Speed: 1.9ms preprocess, 2.9ms inference, 0.0ms postprocess per image at shape (1, 3, 224, 224)\n",
            "\n",
            "image 1/1 /content/drive/MyDrive/Thesis/REFUGE_PRC_ROI/test/0/V0179.jpg: 224x224 0 0.76, 1 0.24, 2.9ms\n",
            "Speed: 1.8ms preprocess, 2.9ms inference, 0.0ms postprocess per image at shape (1, 3, 224, 224)\n",
            "\n",
            "image 1/1 /content/drive/MyDrive/Thesis/REFUGE_PRC_ROI/test/0/V0174.jpg: 224x224 0 0.78, 1 0.22, 4.8ms\n",
            "Speed: 2.6ms preprocess, 4.8ms inference, 0.1ms postprocess per image at shape (1, 3, 224, 224)\n",
            "\n",
            "image 1/1 /content/drive/MyDrive/Thesis/REFUGE_PRC_ROI/test/0/V0184.jpg: 224x224 0 0.99, 1 0.01, 2.9ms\n",
            "Speed: 1.9ms preprocess, 2.9ms inference, 0.0ms postprocess per image at shape (1, 3, 224, 224)\n",
            "\n",
            "image 1/1 /content/drive/MyDrive/Thesis/REFUGE_PRC_ROI/test/0/V0211.jpg: 224x224 0 0.69, 1 0.31, 4.1ms\n",
            "Speed: 2.6ms preprocess, 4.1ms inference, 0.1ms postprocess per image at shape (1, 3, 224, 224)\n",
            "\n",
            "image 1/1 /content/drive/MyDrive/Thesis/REFUGE_PRC_ROI/test/0/V0192.jpg: 224x224 0 0.97, 1 0.03, 4.9ms\n",
            "Speed: 2.7ms preprocess, 4.9ms inference, 0.1ms postprocess per image at shape (1, 3, 224, 224)\n",
            "\n",
            "image 1/1 /content/drive/MyDrive/Thesis/REFUGE_PRC_ROI/test/0/V0220.jpg: 224x224 1 0.78, 0 0.22, 4.0ms\n",
            "Speed: 2.7ms preprocess, 4.0ms inference, 0.1ms postprocess per image at shape (1, 3, 224, 224)\n",
            "\n",
            "image 1/1 /content/drive/MyDrive/Thesis/REFUGE_PRC_ROI/test/0/V0231.jpg: 224x224 0 0.85, 1 0.15, 4.5ms\n",
            "Speed: 2.7ms preprocess, 4.5ms inference, 0.1ms postprocess per image at shape (1, 3, 224, 224)\n",
            "\n",
            "image 1/1 /content/drive/MyDrive/Thesis/REFUGE_PRC_ROI/test/0/V0233.jpg: 224x224 0 0.93, 1 0.07, 3.1ms\n",
            "Speed: 2.2ms preprocess, 3.1ms inference, 0.0ms postprocess per image at shape (1, 3, 224, 224)\n",
            "\n",
            "image 1/1 /content/drive/MyDrive/Thesis/REFUGE_PRC_ROI/test/0/V0243.jpg: 224x224 1 0.69, 0 0.31, 3.0ms\n",
            "Speed: 2.5ms preprocess, 3.0ms inference, 0.1ms postprocess per image at shape (1, 3, 224, 224)\n",
            "\n",
            "image 1/1 /content/drive/MyDrive/Thesis/REFUGE_PRC_ROI/test/0/V0255.jpg: 224x224 0 0.97, 1 0.03, 2.9ms\n",
            "Speed: 2.0ms preprocess, 2.9ms inference, 0.0ms postprocess per image at shape (1, 3, 224, 224)\n",
            "\n",
            "image 1/1 /content/drive/MyDrive/Thesis/REFUGE_PRC_ROI/test/0/V0236.jpg: 224x224 1 0.94, 0 0.06, 3.0ms\n",
            "Speed: 2.4ms preprocess, 3.0ms inference, 0.0ms postprocess per image at shape (1, 3, 224, 224)\n",
            "\n",
            "image 1/1 /content/drive/MyDrive/Thesis/REFUGE_PRC_ROI/test/0/V0239.jpg: 224x224 0 0.99, 1 0.01, 2.9ms\n",
            "Speed: 2.0ms preprocess, 2.9ms inference, 0.0ms postprocess per image at shape (1, 3, 224, 224)\n",
            "\n",
            "image 1/1 /content/drive/MyDrive/Thesis/REFUGE_PRC_ROI/test/0/V0263.jpg: 224x224 0 1.00, 1 0.00, 4.2ms\n",
            "Speed: 3.2ms preprocess, 4.2ms inference, 0.0ms postprocess per image at shape (1, 3, 224, 224)\n",
            "\n",
            "image 1/1 /content/drive/MyDrive/Thesis/REFUGE_PRC_ROI/test/0/V0265.jpg: 224x224 0 0.82, 1 0.18, 3.0ms\n",
            "Speed: 2.4ms preprocess, 3.0ms inference, 0.0ms postprocess per image at shape (1, 3, 224, 224)\n",
            "\n",
            "image 1/1 /content/drive/MyDrive/Thesis/REFUGE_PRC_ROI/test/0/V0284.jpg: 224x224 0 0.99, 1 0.01, 2.8ms\n",
            "Speed: 1.7ms preprocess, 2.8ms inference, 0.0ms postprocess per image at shape (1, 3, 224, 224)\n",
            "\n",
            "image 1/1 /content/drive/MyDrive/Thesis/REFUGE_PRC_ROI/test/0/V0281.jpg: 224x224 0 0.90, 1 0.10, 3.3ms\n",
            "Speed: 2.2ms preprocess, 3.3ms inference, 0.0ms postprocess per image at shape (1, 3, 224, 224)\n",
            "\n",
            "image 1/1 /content/drive/MyDrive/Thesis/REFUGE_PRC_ROI/test/0/V0298.jpg: 224x224 0 0.88, 1 0.12, 3.2ms\n",
            "Speed: 2.2ms preprocess, 3.2ms inference, 0.0ms postprocess per image at shape (1, 3, 224, 224)\n",
            "\n",
            "image 1/1 /content/drive/MyDrive/Thesis/REFUGE_PRC_ROI/test/0/V0315.jpg: 224x224 1 0.74, 0 0.26, 4.2ms\n",
            "Speed: 2.2ms preprocess, 4.2ms inference, 0.0ms postprocess per image at shape (1, 3, 224, 224)\n",
            "\n",
            "image 1/1 /content/drive/MyDrive/Thesis/REFUGE_PRC_ROI/test/0/V0314.jpg: 224x224 1 0.82, 0 0.18, 2.8ms\n",
            "Speed: 2.0ms preprocess, 2.8ms inference, 0.0ms postprocess per image at shape (1, 3, 224, 224)\n",
            "\n",
            "image 1/1 /content/drive/MyDrive/Thesis/REFUGE_PRC_ROI/test/0/V0308.jpg: 224x224 1 0.56, 0 0.44, 2.9ms\n",
            "Speed: 2.1ms preprocess, 2.9ms inference, 0.0ms postprocess per image at shape (1, 3, 224, 224)\n",
            "\n",
            "image 1/1 /content/drive/MyDrive/Thesis/REFUGE_PRC_ROI/test/0/V0327.jpg: 224x224 1 0.73, 0 0.27, 3.1ms\n",
            "Speed: 2.2ms preprocess, 3.1ms inference, 0.1ms postprocess per image at shape (1, 3, 224, 224)\n",
            "\n",
            "image 1/1 /content/drive/MyDrive/Thesis/REFUGE_PRC_ROI/test/0/V0339.jpg: 224x224 0 0.99, 1 0.01, 2.9ms\n",
            "Speed: 1.8ms preprocess, 2.9ms inference, 0.0ms postprocess per image at shape (1, 3, 224, 224)\n",
            "\n",
            "image 1/1 /content/drive/MyDrive/Thesis/REFUGE_PRC_ROI/test/0/V0376.jpg: 224x224 0 1.00, 1 0.00, 2.9ms\n",
            "Speed: 1.9ms preprocess, 2.9ms inference, 0.0ms postprocess per image at shape (1, 3, 224, 224)\n",
            "\n",
            "image 1/1 /content/drive/MyDrive/Thesis/REFUGE_PRC_ROI/test/0/V0372.jpg: 224x224 0 0.73, 1 0.27, 2.8ms\n",
            "Speed: 1.8ms preprocess, 2.8ms inference, 0.0ms postprocess per image at shape (1, 3, 224, 224)\n",
            "\n",
            "image 1/1 /content/drive/MyDrive/Thesis/REFUGE_PRC_ROI/test/0/V0362.jpg: 224x224 0 0.64, 1 0.36, 2.9ms\n",
            "Speed: 2.2ms preprocess, 2.9ms inference, 0.0ms postprocess per image at shape (1, 3, 224, 224)\n",
            "\n",
            "image 1/1 /content/drive/MyDrive/Thesis/REFUGE_PRC_ROI/test/0/V0399.jpg: 224x224 1 1.00, 0 0.00, 2.9ms\n",
            "Speed: 2.1ms preprocess, 2.9ms inference, 0.1ms postprocess per image at shape (1, 3, 224, 224)\n",
            "\n",
            "image 1/1 /content/drive/MyDrive/Thesis/REFUGE_PRC_ROI/test/1/g0009.jpg: 224x224 0 0.72, 1 0.28, 3.0ms\n",
            "Speed: 2.1ms preprocess, 3.0ms inference, 0.0ms postprocess per image at shape (1, 3, 224, 224)\n",
            "\n",
            "image 1/1 /content/drive/MyDrive/Thesis/REFUGE_PRC_ROI/test/1/g0028.jpg: 224x224 1 0.98, 0 0.02, 3.8ms\n",
            "Speed: 2.8ms preprocess, 3.8ms inference, 0.0ms postprocess per image at shape (1, 3, 224, 224)\n",
            "\n",
            "image 1/1 /content/drive/MyDrive/Thesis/REFUGE_PRC_ROI/test/1/V0032.jpg: 224x224 1 0.99, 0 0.01, 2.9ms\n",
            "Speed: 2.0ms preprocess, 2.9ms inference, 0.0ms postprocess per image at shape (1, 3, 224, 224)\n",
            "\n",
            "image 1/1 /content/drive/MyDrive/Thesis/REFUGE_PRC_ROI/test/1/V0028.jpg: 224x224 1 0.93, 0 0.07, 3.0ms\n",
            "Speed: 2.0ms preprocess, 3.0ms inference, 0.0ms postprocess per image at shape (1, 3, 224, 224)\n",
            "\n",
            "image 1/1 /content/drive/MyDrive/Thesis/REFUGE_PRC_ROI/test/1/V0160.jpg: 224x224 1 0.97, 0 0.03, 3.4ms\n",
            "Speed: 2.4ms preprocess, 3.4ms inference, 0.0ms postprocess per image at shape (1, 3, 224, 224)\n",
            "\n",
            "image 1/1 /content/drive/MyDrive/Thesis/REFUGE_PRC_ROI/test/1/V0242.jpg: 224x224 1 1.00, 0 0.00, 2.9ms\n",
            "Speed: 1.7ms preprocess, 2.9ms inference, 0.0ms postprocess per image at shape (1, 3, 224, 224)\n",
            "\n",
            "image 1/1 /content/drive/MyDrive/Thesis/REFUGE_PRC_ROI/test/1/V0333.jpg: 224x224 1 1.00, 0 0.00, 2.8ms\n",
            "Speed: 1.9ms preprocess, 2.8ms inference, 0.0ms postprocess per image at shape (1, 3, 224, 224)\n",
            "Accuracy:  0.654320987654321\n",
            "TP:  6\n",
            "TN:  47\n",
            "FP:  27\n",
            "FN:  1\n",
            "AUC score: 0.8629343629343629\n",
            " \n",
            "Loading for:  RIM-ONE_PRC\n",
            "\n",
            "image 1/1 /content/drive/MyDrive/Thesis/RIM-ONE_PRC_ROI/test/0/r1_Im107.png: 224x224 0 1.00, 1 0.00, 3.1ms\n",
            "Speed: 2.2ms preprocess, 3.1ms inference, 0.0ms postprocess per image at shape (1, 3, 224, 224)\n",
            "\n",
            "image 1/1 /content/drive/MyDrive/Thesis/RIM-ONE_PRC_ROI/test/0/r1_Im006.png: 224x224 0 0.95, 1 0.05, 5.2ms\n",
            "Speed: 2.9ms preprocess, 5.2ms inference, 0.1ms postprocess per image at shape (1, 3, 224, 224)\n",
            "\n",
            "image 1/1 /content/drive/MyDrive/Thesis/RIM-ONE_PRC_ROI/test/0/r2_Im140.png: 224x224 0 1.00, 1 0.00, 3.8ms\n",
            "Speed: 2.5ms preprocess, 3.8ms inference, 0.1ms postprocess per image at shape (1, 3, 224, 224)\n",
            "\n",
            "image 1/1 /content/drive/MyDrive/Thesis/RIM-ONE_PRC_ROI/test/0/r2_Im116.png: 224x224 0 1.00, 1 0.00, 3.8ms\n",
            "Speed: 2.6ms preprocess, 3.8ms inference, 0.1ms postprocess per image at shape (1, 3, 224, 224)\n",
            "\n",
            "image 1/1 /content/drive/MyDrive/Thesis/RIM-ONE_PRC_ROI/test/0/r2_Im158.png: 224x224 0 0.96, 1 0.04, 5.4ms\n",
            "Speed: 2.8ms preprocess, 5.4ms inference, 0.1ms postprocess per image at shape (1, 3, 224, 224)\n",
            "\n",
            "image 1/1 /content/drive/MyDrive/Thesis/RIM-ONE_PRC_ROI/test/0/r2_Im166.png: 224x224 0 1.00, 1 0.00, 6.8ms\n",
            "Speed: 2.7ms preprocess, 6.8ms inference, 0.1ms postprocess per image at shape (1, 3, 224, 224)\n",
            "\n",
            "image 1/1 /content/drive/MyDrive/Thesis/RIM-ONE_PRC_ROI/test/0/r1_Im072.png: 224x224 0 1.00, 1 0.00, 3.0ms\n",
            "Speed: 2.1ms preprocess, 3.0ms inference, 0.0ms postprocess per image at shape (1, 3, 224, 224)\n",
            "\n",
            "image 1/1 /content/drive/MyDrive/Thesis/RIM-ONE_PRC_ROI/test/0/r2_Im180.png: 224x224 0 1.00, 1 0.00, 2.9ms\n",
            "Speed: 1.8ms preprocess, 2.9ms inference, 0.0ms postprocess per image at shape (1, 3, 224, 224)\n",
            "\n",
            "image 1/1 /content/drive/MyDrive/Thesis/RIM-ONE_PRC_ROI/test/0/r2_Im206.png: 224x224 0 1.00, 1 0.00, 2.8ms\n",
            "Speed: 1.9ms preprocess, 2.8ms inference, 0.0ms postprocess per image at shape (1, 3, 224, 224)\n",
            "\n",
            "image 1/1 /content/drive/MyDrive/Thesis/RIM-ONE_PRC_ROI/test/0/r2_Im212.png: 224x224 0 1.00, 1 0.00, 2.8ms\n",
            "Speed: 1.8ms preprocess, 2.8ms inference, 0.0ms postprocess per image at shape (1, 3, 224, 224)\n",
            "\n",
            "image 1/1 /content/drive/MyDrive/Thesis/RIM-ONE_PRC_ROI/test/0/r3_N-53-L_left_half.png: 224x224 0 0.59, 1 0.41, 3.0ms\n",
            "Speed: 2.1ms preprocess, 3.0ms inference, 0.1ms postprocess per image at shape (1, 3, 224, 224)\n",
            "\n",
            "image 1/1 /content/drive/MyDrive/Thesis/RIM-ONE_PRC_ROI/test/0/r3_N-87-L_left_half.png: 224x224 0 0.99, 1 0.01, 2.9ms\n",
            "Speed: 1.9ms preprocess, 2.9ms inference, 0.0ms postprocess per image at shape (1, 3, 224, 224)\n",
            "\n",
            "image 1/1 /content/drive/MyDrive/Thesis/RIM-ONE_PRC_ROI/test/0/r1_Im020.png: 224x224 0 1.00, 1 0.00, 3.0ms\n",
            "Speed: 2.0ms preprocess, 3.0ms inference, 0.0ms postprocess per image at shape (1, 3, 224, 224)\n",
            "\n",
            "image 1/1 /content/drive/MyDrive/Thesis/RIM-ONE_PRC_ROI/test/0/r1_Im059.png: 224x224 0 1.00, 1 0.00, 2.8ms\n",
            "Speed: 1.9ms preprocess, 2.8ms inference, 0.0ms postprocess per image at shape (1, 3, 224, 224)\n",
            "\n",
            "image 1/1 /content/drive/MyDrive/Thesis/RIM-ONE_PRC_ROI/test/0/r1_Im137.png: 224x224 0 0.86, 1 0.14, 2.9ms\n",
            "Speed: 1.8ms preprocess, 2.9ms inference, 0.0ms postprocess per image at shape (1, 3, 224, 224)\n",
            "\n",
            "image 1/1 /content/drive/MyDrive/Thesis/RIM-ONE_PRC_ROI/test/0/r1_Im156.png: 224x224 0 0.99, 1 0.01, 3.0ms\n",
            "Speed: 2.4ms preprocess, 3.0ms inference, 0.0ms postprocess per image at shape (1, 3, 224, 224)\n",
            "\n",
            "image 1/1 /content/drive/MyDrive/Thesis/RIM-ONE_PRC_ROI/test/0/r2_Im026.png: 224x224 0 1.00, 1 0.00, 2.9ms\n",
            "Speed: 2.0ms preprocess, 2.9ms inference, 0.0ms postprocess per image at shape (1, 3, 224, 224)\n",
            "\n",
            "image 1/1 /content/drive/MyDrive/Thesis/RIM-ONE_PRC_ROI/test/0/r2_Im030.png: 224x224 0 1.00, 1 0.00, 2.8ms\n",
            "Speed: 1.8ms preprocess, 2.8ms inference, 0.0ms postprocess per image at shape (1, 3, 224, 224)\n",
            "\n",
            "image 1/1 /content/drive/MyDrive/Thesis/RIM-ONE_PRC_ROI/test/0/r2_Im044.png: 224x224 0 0.99, 1 0.01, 2.8ms\n",
            "Speed: 1.8ms preprocess, 2.8ms inference, 0.0ms postprocess per image at shape (1, 3, 224, 224)\n",
            "\n",
            "image 1/1 /content/drive/MyDrive/Thesis/RIM-ONE_PRC_ROI/test/0/r2_Im084.png: 224x224 0 1.00, 1 0.00, 3.0ms\n",
            "Speed: 1.9ms preprocess, 3.0ms inference, 0.0ms postprocess per image at shape (1, 3, 224, 224)\n",
            "\n",
            "image 1/1 /content/drive/MyDrive/Thesis/RIM-ONE_PRC_ROI/test/0/r2_Im090.png: 224x224 0 1.00, 1 0.00, 2.9ms\n",
            "Speed: 2.0ms preprocess, 2.9ms inference, 0.0ms postprocess per image at shape (1, 3, 224, 224)\n",
            "\n",
            "image 1/1 /content/drive/MyDrive/Thesis/RIM-ONE_PRC_ROI/test/0/r2_Im104.png: 224x224 0 0.91, 1 0.09, 3.1ms\n",
            "Speed: 1.8ms preprocess, 3.1ms inference, 0.0ms postprocess per image at shape (1, 3, 224, 224)\n",
            "\n",
            "image 1/1 /content/drive/MyDrive/Thesis/RIM-ONE_PRC_ROI/test/0/r2_Im108.png: 224x224 0 1.00, 1 0.00, 2.9ms\n",
            "Speed: 2.0ms preprocess, 2.9ms inference, 0.0ms postprocess per image at shape (1, 3, 224, 224)\n",
            "\n",
            "image 1/1 /content/drive/MyDrive/Thesis/RIM-ONE_PRC_ROI/test/0/r2_Im114.png: 224x224 0 1.00, 1 0.00, 2.8ms\n",
            "Speed: 1.9ms preprocess, 2.8ms inference, 0.0ms postprocess per image at shape (1, 3, 224, 224)\n",
            "\n",
            "image 1/1 /content/drive/MyDrive/Thesis/RIM-ONE_PRC_ROI/test/0/r2_Im210.png: 224x224 0 1.00, 1 0.00, 2.8ms\n",
            "Speed: 1.7ms preprocess, 2.8ms inference, 0.0ms postprocess per image at shape (1, 3, 224, 224)\n",
            "\n",
            "image 1/1 /content/drive/MyDrive/Thesis/RIM-ONE_PRC_ROI/test/0/r2_Im230.png: 224x224 0 0.72, 1 0.28, 2.8ms\n",
            "Speed: 1.8ms preprocess, 2.8ms inference, 0.0ms postprocess per image at shape (1, 3, 224, 224)\n",
            "\n",
            "image 1/1 /content/drive/MyDrive/Thesis/RIM-ONE_PRC_ROI/test/0/r3_N-20-R_left_half.png: 224x224 0 1.00, 1 0.00, 2.9ms\n",
            "Speed: 1.8ms preprocess, 2.9ms inference, 0.0ms postprocess per image at shape (1, 3, 224, 224)\n",
            "\n",
            "image 1/1 /content/drive/MyDrive/Thesis/RIM-ONE_PRC_ROI/test/0/r3_N-3-L_left_half.png: 224x224 0 1.00, 1 0.00, 2.9ms\n",
            "Speed: 1.9ms preprocess, 2.9ms inference, 0.0ms postprocess per image at shape (1, 3, 224, 224)\n",
            "\n",
            "image 1/1 /content/drive/MyDrive/Thesis/RIM-ONE_PRC_ROI/test/0/r3_N-26-R_left_half.png: 224x224 0 1.00, 1 0.00, 2.9ms\n",
            "Speed: 1.9ms preprocess, 2.9ms inference, 0.1ms postprocess per image at shape (1, 3, 224, 224)\n",
            "\n",
            "image 1/1 /content/drive/MyDrive/Thesis/RIM-ONE_PRC_ROI/test/0/r3_N-44-R_left_half.png: 224x224 0 0.98, 1 0.02, 2.8ms\n",
            "Speed: 2.4ms preprocess, 2.8ms inference, 0.0ms postprocess per image at shape (1, 3, 224, 224)\n",
            "\n",
            "image 1/1 /content/drive/MyDrive/Thesis/RIM-ONE_PRC_ROI/test/0/r3_N-69-L_left_half.png: 224x224 0 0.99, 1 0.01, 2.8ms\n",
            "Speed: 1.9ms preprocess, 2.8ms inference, 0.0ms postprocess per image at shape (1, 3, 224, 224)\n",
            "\n",
            "image 1/1 /content/drive/MyDrive/Thesis/RIM-ONE_PRC_ROI/test/0/r3_N-8-L_left_half.png: 224x224 0 0.99, 1 0.01, 2.7ms\n",
            "Speed: 1.7ms preprocess, 2.7ms inference, 0.0ms postprocess per image at shape (1, 3, 224, 224)\n",
            "\n",
            "image 1/1 /content/drive/MyDrive/Thesis/RIM-ONE_PRC_ROI/test/1/r2_Im287.png: 224x224 1 1.00, 0 0.00, 3.0ms\n",
            "Speed: 2.0ms preprocess, 3.0ms inference, 0.0ms postprocess per image at shape (1, 3, 224, 224)\n",
            "\n",
            "image 1/1 /content/drive/MyDrive/Thesis/RIM-ONE_PRC_ROI/test/1/r2_Im334.png: 224x224 1 1.00, 0 0.00, 3.8ms\n",
            "Speed: 2.9ms preprocess, 3.8ms inference, 0.0ms postprocess per image at shape (1, 3, 224, 224)\n",
            "\n",
            "image 1/1 /content/drive/MyDrive/Thesis/RIM-ONE_PRC_ROI/test/1/r2_Im416.png: 224x224 1 1.00, 0 0.00, 4.8ms\n",
            "Speed: 2.6ms preprocess, 4.8ms inference, 0.1ms postprocess per image at shape (1, 3, 224, 224)\n",
            "\n",
            "image 1/1 /content/drive/MyDrive/Thesis/RIM-ONE_PRC_ROI/test/1/r3_S-10-R_left_half.png: 224x224 1 1.00, 0 0.00, 3.9ms\n",
            "Speed: 2.5ms preprocess, 3.9ms inference, 0.1ms postprocess per image at shape (1, 3, 224, 224)\n",
            "\n",
            "image 1/1 /content/drive/MyDrive/Thesis/RIM-ONE_PRC_ROI/test/1/r2_Im339.png: 224x224 0 0.55, 1 0.45, 4.2ms\n",
            "Speed: 2.4ms preprocess, 4.2ms inference, 0.0ms postprocess per image at shape (1, 3, 224, 224)\n",
            "\n",
            "image 1/1 /content/drive/MyDrive/Thesis/RIM-ONE_PRC_ROI/test/1/r2_Im331.png: 224x224 0 0.61, 1 0.39, 4.8ms\n",
            "Speed: 2.8ms preprocess, 4.8ms inference, 0.1ms postprocess per image at shape (1, 3, 224, 224)\n",
            "\n",
            "image 1/1 /content/drive/MyDrive/Thesis/RIM-ONE_PRC_ROI/test/1/r2_Im358.png: 224x224 1 1.00, 0 0.00, 3.0ms\n",
            "Speed: 2.1ms preprocess, 3.0ms inference, 0.0ms postprocess per image at shape (1, 3, 224, 224)\n",
            "\n",
            "image 1/1 /content/drive/MyDrive/Thesis/RIM-ONE_PRC_ROI/test/1/r2_Im383.png: 224x224 1 0.65, 0 0.35, 2.9ms\n",
            "Speed: 1.8ms preprocess, 2.9ms inference, 0.0ms postprocess per image at shape (1, 3, 224, 224)\n",
            "\n",
            "image 1/1 /content/drive/MyDrive/Thesis/RIM-ONE_PRC_ROI/test/1/r3_G-29-R_left_half.png: 224x224 1 1.00, 0 0.00, 4.6ms\n",
            "Speed: 2.3ms preprocess, 4.6ms inference, 0.1ms postprocess per image at shape (1, 3, 224, 224)\n",
            "\n",
            "image 1/1 /content/drive/MyDrive/Thesis/RIM-ONE_PRC_ROI/test/1/r2_Im389.png: 224x224 1 1.00, 0 0.00, 3.0ms\n",
            "Speed: 2.3ms preprocess, 3.0ms inference, 0.0ms postprocess per image at shape (1, 3, 224, 224)\n",
            "\n",
            "image 1/1 /content/drive/MyDrive/Thesis/RIM-ONE_PRC_ROI/test/1/r2_Im449.png: 224x224 1 1.00, 0 0.00, 3.0ms\n",
            "Speed: 2.3ms preprocess, 3.0ms inference, 0.0ms postprocess per image at shape (1, 3, 224, 224)\n",
            "\n",
            "image 1/1 /content/drive/MyDrive/Thesis/RIM-ONE_PRC_ROI/test/1/r2_Im433.png: 224x224 1 1.00, 0 0.00, 4.5ms\n",
            "Speed: 2.4ms preprocess, 4.5ms inference, 0.1ms postprocess per image at shape (1, 3, 224, 224)\n",
            "\n",
            "image 1/1 /content/drive/MyDrive/Thesis/RIM-ONE_PRC_ROI/test/1/r3_G-12-L_left_half.png: 224x224 1 1.00, 0 0.00, 3.0ms\n",
            "Speed: 2.1ms preprocess, 3.0ms inference, 0.0ms postprocess per image at shape (1, 3, 224, 224)\n",
            "\n",
            "image 1/1 /content/drive/MyDrive/Thesis/RIM-ONE_PRC_ROI/test/1/r3_G-31-R_left_half.png: 224x224 1 1.00, 0 0.00, 2.9ms\n",
            "Speed: 1.9ms preprocess, 2.9ms inference, 0.1ms postprocess per image at shape (1, 3, 224, 224)\n",
            "\n",
            "image 1/1 /content/drive/MyDrive/Thesis/RIM-ONE_PRC_ROI/test/1/r3_S-18-L_left_half.png: 224x224 0 1.00, 1 0.00, 2.9ms\n",
            "Speed: 1.9ms preprocess, 2.9ms inference, 0.0ms postprocess per image at shape (1, 3, 224, 224)\n",
            "\n",
            "image 1/1 /content/drive/MyDrive/Thesis/RIM-ONE_PRC_ROI/test/1/r3_S-30-L_left_half.png: 224x224 1 0.93, 0 0.07, 2.9ms\n",
            "Speed: 2.0ms preprocess, 2.9ms inference, 0.0ms postprocess per image at shape (1, 3, 224, 224)\n",
            "\n",
            "image 1/1 /content/drive/MyDrive/Thesis/RIM-ONE_PRC_ROI/test/1/r3_S-32-L_left_half.png: 224x224 1 0.64, 0 0.36, 2.8ms\n",
            "Speed: 1.8ms preprocess, 2.8ms inference, 0.0ms postprocess per image at shape (1, 3, 224, 224)\n",
            "Accuracy:  0.9387755102040817\n",
            "TP:  14\n",
            "TN:  32\n",
            "FP:  0\n",
            "FN:  3\n",
            "AUC score: 0.9632352941176471\n",
            " \n"
          ]
        },
        {
          "output_type": "display_data",
          "data": {
            "text/plain": [
              "<Figure size 640x480 with 1 Axes>"
            ],
            "image/png": "[encoded data removed]"
          },
          "metadata": {}
        }
      ]
    }
  ],
  "metadata": {
    "colab": {
      "provenance": [],
      "gpuType": "T4"
    },
    "kernelspec": {
      "display_name": "Python 3",
      "name": "python3"
    },
    "language_info": {
      "name": "python"
    },
    "accelerator": "GPU"
  },
  "nbformat": 4,
  "nbformat_minor": 0
}